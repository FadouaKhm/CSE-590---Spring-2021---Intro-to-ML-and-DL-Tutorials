{
  "nbformat": 4,
  "nbformat_minor": 0,
  "metadata": {
    "kernelspec": {
      "display_name": "Python 3",
      "language": "python",
      "name": "python3"
    },
    "language_info": {
      "codemirror_mode": {
        "name": "ipython",
        "version": 3
      },
      "file_extension": ".py",
      "mimetype": "text/x-python",
      "name": "python",
      "nbconvert_exporter": "python",
      "pygments_lexer": "ipython3",
      "version": "3.6.5"
    },
    "colab": {
      "name": "[Intro to DL]Getting started - Logistic Regression for Breast Cancer data.ipynb",
      "provenance": [],
      "include_colab_link": true
    }
  },
  "cells": [
    {
      "cell_type": "markdown",
      "metadata": {
        "id": "view-in-github",
        "colab_type": "text"
      },
      "source": [
        "<a href=\"https://colab.research.google.com/github/FadouaKhm/CSE-590---Spring-2021---Intro-to-ML-and-DL-Tutorials/blob/main/%5BIntro_to_DL%5DGetting_started_Logistic_Regression_for_Breast_Cancer_data.ipynb\" target=\"_parent\"><img src=\"https://colab.research.google.com/assets/colab-badge.svg\" alt=\"Open In Colab\"/></a>"
      ]
    },
    {
      "cell_type": "markdown",
      "metadata": {
        "id": "RDwJJGi6ehMT"
      },
      "source": [
        "# Prerequesites"
      ]
    },
    {
      "cell_type": "markdown",
      "metadata": {
        "id": "8wKclrhMehMX"
      },
      "source": [
        "### Python\n",
        "You first need to set up a Python environment (if you do not have done so already). The easiest way to do this is by installing Anaconda. We will be using Python 3, so be sure to install the right version.\n",
        "link: https://docs.anaconda.com/anaconda/user-guide/getting-started/\n",
        "\n",
        "#### Why Python?\n",
        "Many data-heavy applications are now developed in Python\n",
        "- Highly readable, less complexity, fast prototyping\n",
        "- Easy to offload number crunching to underlying C/Fortran/...\n",
        "- Easy to install and import many rich libraries\n",
        "- numpy: efficient data structures\n",
        "- scipy: fast numerical recipes\n",
        "- matplotlib: high-quality graphs\n",
        "- scikit-learn: machine learning algorithms\n",
        "- tensorflow: neural networks\n",
        "\n",
        "### Required packages\n",
        "Next, you'll need to install several packages that we'll be using extensively. You'll need to run these commands on the command line.\n",
        "\n",
        "#### Installing packages with conda\n",
        "If you are using Anaconda, you can use the conda package manager to install all packages:\n",
        "\n",
        "conda install numpy scipy scikit-learn matplotlib pandas pillow\n",
        "\n",
        "#### Installing packages with pip\n",
        "With most other setups (not conda), you can use pip to install all packages. Pip is the Python Package index. It is included in most Python installations.\n",
        "\n",
        "pip install numpy scipy scikit-learn matplotlib pandas pillow"
      ]
    },
    {
      "cell_type": "code",
      "metadata": {
        "colab": {
          "base_uri": "https://localhost:8080/"
        },
        "id": "PFhwEesoehMZ",
        "outputId": "14015194-2233-4e22-dfdf-b533b01bab9b"
      },
      "source": [
        "!pip install numpy scipy scikit-learn matplotlib pandas "
      ],
      "execution_count": null,
      "outputs": [
        {
          "output_type": "stream",
          "text": [
            "Requirement already satisfied: numpy in /usr/local/lib/python3.6/dist-packages (1.19.5)\n",
            "Requirement already satisfied: scipy in /usr/local/lib/python3.6/dist-packages (1.4.1)\n",
            "Requirement already satisfied: scikit-learn in /usr/local/lib/python3.6/dist-packages (0.22.2.post1)\n",
            "Requirement already satisfied: matplotlib in /usr/local/lib/python3.6/dist-packages (3.2.2)\n",
            "Requirement already satisfied: pandas in /usr/local/lib/python3.6/dist-packages (1.1.5)\n",
            "Requirement already satisfied: joblib>=0.11 in /usr/local/lib/python3.6/dist-packages (from scikit-learn) (1.0.0)\n",
            "Requirement already satisfied: python-dateutil>=2.1 in /usr/local/lib/python3.6/dist-packages (from matplotlib) (2.8.1)\n",
            "Requirement already satisfied: kiwisolver>=1.0.1 in /usr/local/lib/python3.6/dist-packages (from matplotlib) (1.3.1)\n",
            "Requirement already satisfied: cycler>=0.10 in /usr/local/lib/python3.6/dist-packages (from matplotlib) (0.10.0)\n",
            "Requirement already satisfied: pyparsing!=2.0.4,!=2.1.2,!=2.1.6,>=2.0.1 in /usr/local/lib/python3.6/dist-packages (from matplotlib) (2.4.7)\n",
            "Requirement already satisfied: pytz>=2017.2 in /usr/local/lib/python3.6/dist-packages (from pandas) (2018.9)\n",
            "Requirement already satisfied: six>=1.5 in /usr/local/lib/python3.6/dist-packages (from python-dateutil>=2.1->matplotlib) (1.15.0)\n"
          ],
          "name": "stdout"
        }
      ]
    },
    {
      "cell_type": "markdown",
      "metadata": {
        "id": "-mcN1rkLehMZ"
      },
      "source": [
        "### Virtual environments\n",
        "If you are not using Anaconda, and you already have a custom Python environment set up, possibly using a different Python version, it may be wise to set up a virtual environment for this course so that it does not affect your existing environment: https://docs.python-guide.org/dev/virtualenvs/"
      ]
    },
    {
      "cell_type": "markdown",
      "metadata": {
        "id": "B5D3nAHvehMa"
      },
      "source": [
        "### Tensorflow\n",
        "\n",
        "To install TensorFlow 2, follow these instructions (https://www.tensorflow.org/install/) for your OS (Windows, Mac, Ubuntu). While installation with conda is possible, they recommend to install it with pip, even with an Anaconda setup."
      ]
    },
    {
      "cell_type": "code",
      "metadata": {
        "colab": {
          "base_uri": "https://localhost:8080/"
        },
        "id": "lfHyHt0vehMa",
        "outputId": "036cfa01-bcb0-4a16-c5bd-87b73776f2de"
      },
      "source": [
        "# Requires the latest pip\n",
        "!pip install --upgrade pip\n",
        "\n",
        "# Current stable release for CPU and GPU\n",
        "!pip install tensorflow"
      ],
      "execution_count": null,
      "outputs": [
        {
          "output_type": "stream",
          "text": [
            "Collecting pip\n",
            "\u001b[?25l  Downloading https://files.pythonhosted.org/packages/54/eb/4a3642e971f404d69d4f6fa3885559d67562801b99d7592487f1ecc4e017/pip-20.3.3-py2.py3-none-any.whl (1.5MB)\n",
            "\r\u001b[K     |▏                               | 10kB 16.2MB/s eta 0:00:01\r\u001b[K     |▍                               | 20kB 21.7MB/s eta 0:00:01\r\u001b[K     |▋                               | 30kB 12.6MB/s eta 0:00:01\r\u001b[K     |▉                               | 40kB 11.1MB/s eta 0:00:01\r\u001b[K     |█                               | 51kB 10.6MB/s eta 0:00:01\r\u001b[K     |█▎                              | 61kB 10.5MB/s eta 0:00:01\r\u001b[K     |█▌                              | 71kB 11.4MB/s eta 0:00:01\r\u001b[K     |█▊                              | 81kB 11.3MB/s eta 0:00:01\r\u001b[K     |██                              | 92kB 10.3MB/s eta 0:00:01\r\u001b[K     |██▏                             | 102kB 10.9MB/s eta 0:00:01\r\u001b[K     |██▍                             | 112kB 10.9MB/s eta 0:00:01\r\u001b[K     |██▋                             | 122kB 10.9MB/s eta 0:00:01\r\u001b[K     |██▉                             | 133kB 10.9MB/s eta 0:00:01\r\u001b[K     |███                             | 143kB 10.9MB/s eta 0:00:01\r\u001b[K     |███▎                            | 153kB 10.9MB/s eta 0:00:01\r\u001b[K     |███▌                            | 163kB 10.9MB/s eta 0:00:01\r\u001b[K     |███▋                            | 174kB 10.9MB/s eta 0:00:01\r\u001b[K     |███▉                            | 184kB 10.9MB/s eta 0:00:01\r\u001b[K     |████                            | 194kB 10.9MB/s eta 0:00:01\r\u001b[K     |████▎                           | 204kB 10.9MB/s eta 0:00:01\r\u001b[K     |████▌                           | 215kB 10.9MB/s eta 0:00:01\r\u001b[K     |████▊                           | 225kB 10.9MB/s eta 0:00:01\r\u001b[K     |█████                           | 235kB 10.9MB/s eta 0:00:01\r\u001b[K     |█████▏                          | 245kB 10.9MB/s eta 0:00:01\r\u001b[K     |█████▍                          | 256kB 10.9MB/s eta 0:00:01\r\u001b[K     |█████▋                          | 266kB 10.9MB/s eta 0:00:01\r\u001b[K     |█████▉                          | 276kB 10.9MB/s eta 0:00:01\r\u001b[K     |██████                          | 286kB 10.9MB/s eta 0:00:01\r\u001b[K     |██████▎                         | 296kB 10.9MB/s eta 0:00:01\r\u001b[K     |██████▌                         | 307kB 10.9MB/s eta 0:00:01\r\u001b[K     |██████▊                         | 317kB 10.9MB/s eta 0:00:01\r\u001b[K     |███████                         | 327kB 10.9MB/s eta 0:00:01\r\u001b[K     |███████                         | 337kB 10.9MB/s eta 0:00:01\r\u001b[K     |███████▎                        | 348kB 10.9MB/s eta 0:00:01\r\u001b[K     |███████▌                        | 358kB 10.9MB/s eta 0:00:01\r\u001b[K     |███████▊                        | 368kB 10.9MB/s eta 0:00:01\r\u001b[K     |████████                        | 378kB 10.9MB/s eta 0:00:01\r\u001b[K     |████████▏                       | 389kB 10.9MB/s eta 0:00:01\r\u001b[K     |████████▍                       | 399kB 10.9MB/s eta 0:00:01\r\u001b[K     |████████▋                       | 409kB 10.9MB/s eta 0:00:01\r\u001b[K     |████████▉                       | 419kB 10.9MB/s eta 0:00:01\r\u001b[K     |█████████                       | 430kB 10.9MB/s eta 0:00:01\r\u001b[K     |█████████▎                      | 440kB 10.9MB/s eta 0:00:01\r\u001b[K     |█████████▌                      | 450kB 10.9MB/s eta 0:00:01\r\u001b[K     |█████████▊                      | 460kB 10.9MB/s eta 0:00:01\r\u001b[K     |██████████                      | 471kB 10.9MB/s eta 0:00:01\r\u001b[K     |██████████▏                     | 481kB 10.9MB/s eta 0:00:01\r\u001b[K     |██████████▍                     | 491kB 10.9MB/s eta 0:00:01\r\u001b[K     |██████████▋                     | 501kB 10.9MB/s eta 0:00:01\r\u001b[K     |██████████▊                     | 512kB 10.9MB/s eta 0:00:01\r\u001b[K     |███████████                     | 522kB 10.9MB/s eta 0:00:01\r\u001b[K     |███████████▏                    | 532kB 10.9MB/s eta 0:00:01\r\u001b[K     |███████████▍                    | 542kB 10.9MB/s eta 0:00:01\r\u001b[K     |███████████▋                    | 552kB 10.9MB/s eta 0:00:01\r\u001b[K     |███████████▉                    | 563kB 10.9MB/s eta 0:00:01\r\u001b[K     |████████████                    | 573kB 10.9MB/s eta 0:00:01\r\u001b[K     |████████████▎                   | 583kB 10.9MB/s eta 0:00:01\r\u001b[K     |████████████▌                   | 593kB 10.9MB/s eta 0:00:01\r\u001b[K     |████████████▊                   | 604kB 10.9MB/s eta 0:00:01\r\u001b[K     |█████████████                   | 614kB 10.9MB/s eta 0:00:01\r\u001b[K     |█████████████▏                  | 624kB 10.9MB/s eta 0:00:01\r\u001b[K     |█████████████▍                  | 634kB 10.9MB/s eta 0:00:01\r\u001b[K     |█████████████▋                  | 645kB 10.9MB/s eta 0:00:01\r\u001b[K     |█████████████▉                  | 655kB 10.9MB/s eta 0:00:01\r\u001b[K     |██████████████                  | 665kB 10.9MB/s eta 0:00:01\r\u001b[K     |██████████████▏                 | 675kB 10.9MB/s eta 0:00:01\r\u001b[K     |██████████████▍                 | 686kB 10.9MB/s eta 0:00:01\r\u001b[K     |██████████████▋                 | 696kB 10.9MB/s eta 0:00:01\r\u001b[K     |██████████████▉                 | 706kB 10.9MB/s eta 0:00:01\r\u001b[K     |███████████████                 | 716kB 10.9MB/s eta 0:00:01\r\u001b[K     |███████████████▎                | 727kB 10.9MB/s eta 0:00:01\r\u001b[K     |███████████████▌                | 737kB 10.9MB/s eta 0:00:01\r\u001b[K     |███████████████▊                | 747kB 10.9MB/s eta 0:00:01\r\u001b[K     |████████████████                | 757kB 10.9MB/s eta 0:00:01\r\u001b[K     |████████████████▏               | 768kB 10.9MB/s eta 0:00:01\r\u001b[K     |████████████████▍               | 778kB 10.9MB/s eta 0:00:01\r\u001b[K     |████████████████▋               | 788kB 10.9MB/s eta 0:00:01\r\u001b[K     |████████████████▉               | 798kB 10.9MB/s eta 0:00:01\r\u001b[K     |█████████████████               | 808kB 10.9MB/s eta 0:00:01\r\u001b[K     |█████████████████▎              | 819kB 10.9MB/s eta 0:00:01\r\u001b[K     |█████████████████▌              | 829kB 10.9MB/s eta 0:00:01\r\u001b[K     |█████████████████▊              | 839kB 10.9MB/s eta 0:00:01\r\u001b[K     |█████████████████▉              | 849kB 10.9MB/s eta 0:00:01\r\u001b[K     |██████████████████              | 860kB 10.9MB/s eta 0:00:01\r\u001b[K     |██████████████████▎             | 870kB 10.9MB/s eta 0:00:01\r\u001b[K     |██████████████████▌             | 880kB 10.9MB/s eta 0:00:01\r\u001b[K     |██████████████████▊             | 890kB 10.9MB/s eta 0:00:01\r\u001b[K     |███████████████████             | 901kB 10.9MB/s eta 0:00:01\r\u001b[K     |███████████████████▏            | 911kB 10.9MB/s eta 0:00:01\r\u001b[K     |███████████████████▍            | 921kB 10.9MB/s eta 0:00:01\r\u001b[K     |███████████████████▋            | 931kB 10.9MB/s eta 0:00:01\r\u001b[K     |███████████████████▉            | 942kB 10.9MB/s eta 0:00:01\r\u001b[K     |████████████████████            | 952kB 10.9MB/s eta 0:00:01\r\u001b[K     |████████████████████▎           | 962kB 10.9MB/s eta 0:00:01\r\u001b[K     |████████████████████▌           | 972kB 10.9MB/s eta 0:00:01\r\u001b[K     |████████████████████▊           | 983kB 10.9MB/s eta 0:00:01\r\u001b[K     |█████████████████████           | 993kB 10.9MB/s eta 0:00:01\r\u001b[K     |█████████████████████▏          | 1.0MB 10.9MB/s eta 0:00:01\r\u001b[K     |█████████████████████▎          | 1.0MB 10.9MB/s eta 0:00:01\r\u001b[K     |█████████████████████▌          | 1.0MB 10.9MB/s eta 0:00:01\r\u001b[K     |█████████████████████▊          | 1.0MB 10.9MB/s eta 0:00:01\r\u001b[K     |██████████████████████          | 1.0MB 10.9MB/s eta 0:00:01\r\u001b[K     |██████████████████████▏         | 1.1MB 10.9MB/s eta 0:00:01\r\u001b[K     |██████████████████████▍         | 1.1MB 10.9MB/s eta 0:00:01\r\u001b[K     |██████████████████████▋         | 1.1MB 10.9MB/s eta 0:00:01\r\u001b[K     |██████████████████████▉         | 1.1MB 10.9MB/s eta 0:00:01\r\u001b[K     |███████████████████████         | 1.1MB 10.9MB/s eta 0:00:01\r\u001b[K     |███████████████████████▎        | 1.1MB 10.9MB/s eta 0:00:01\r\u001b[K     |███████████████████████▌        | 1.1MB 10.9MB/s eta 0:00:01\r\u001b[K     |███████████████████████▊        | 1.1MB 10.9MB/s eta 0:00:01\r\u001b[K     |████████████████████████        | 1.1MB 10.9MB/s eta 0:00:01\r\u001b[K     |████████████████████████▏       | 1.1MB 10.9MB/s eta 0:00:01\r\u001b[K     |████████████████████████▍       | 1.2MB 10.9MB/s eta 0:00:01\r\u001b[K     |████████████████████████▋       | 1.2MB 10.9MB/s eta 0:00:01\r\u001b[K     |████████████████████████▊       | 1.2MB 10.9MB/s eta 0:00:01\r\u001b[K     |█████████████████████████       | 1.2MB 10.9MB/s eta 0:00:01\r\u001b[K     |█████████████████████████▏      | 1.2MB 10.9MB/s eta 0:00:01\r\u001b[K     |█████████████████████████▍      | 1.2MB 10.9MB/s eta 0:00:01\r\u001b[K     |█████████████████████████▋      | 1.2MB 10.9MB/s eta 0:00:01\r\u001b[K     |█████████████████████████▉      | 1.2MB 10.9MB/s eta 0:00:01\r\u001b[K     |██████████████████████████      | 1.2MB 10.9MB/s eta 0:00:01\r\u001b[K     |██████████████████████████▎     | 1.2MB 10.9MB/s eta 0:00:01\r\u001b[K     |██████████████████████████▌     | 1.3MB 10.9MB/s eta 0:00:01\r\u001b[K     |██████████████████████████▊     | 1.3MB 10.9MB/s eta 0:00:01\r\u001b[K     |███████████████████████████     | 1.3MB 10.9MB/s eta 0:00:01\r\u001b[K     |███████████████████████████▏    | 1.3MB 10.9MB/s eta 0:00:01\r\u001b[K     |███████████████████████████▍    | 1.3MB 10.9MB/s eta 0:00:01\r\u001b[K     |███████████████████████████▋    | 1.3MB 10.9MB/s eta 0:00:01\r\u001b[K     |███████████████████████████▉    | 1.3MB 10.9MB/s eta 0:00:01\r\u001b[K     |████████████████████████████    | 1.3MB 10.9MB/s eta 0:00:01\r\u001b[K     |████████████████████████████▎   | 1.3MB 10.9MB/s eta 0:00:01\r\u001b[K     |████████████████████████████▍   | 1.4MB 10.9MB/s eta 0:00:01\r\u001b[K     |████████████████████████████▋   | 1.4MB 10.9MB/s eta 0:00:01\r\u001b[K     |████████████████████████████▉   | 1.4MB 10.9MB/s eta 0:00:01\r\u001b[K     |█████████████████████████████   | 1.4MB 10.9MB/s eta 0:00:01\r\u001b[K     |█████████████████████████████▎  | 1.4MB 10.9MB/s eta 0:00:01\r\u001b[K     |█████████████████████████████▌  | 1.4MB 10.9MB/s eta 0:00:01\r\u001b[K     |█████████████████████████████▊  | 1.4MB 10.9MB/s eta 0:00:01\r\u001b[K     |██████████████████████████████  | 1.4MB 10.9MB/s eta 0:00:01\r\u001b[K     |██████████████████████████████▏ | 1.4MB 10.9MB/s eta 0:00:01\r\u001b[K     |██████████████████████████████▍ | 1.4MB 10.9MB/s eta 0:00:01\r\u001b[K     |██████████████████████████████▋ | 1.5MB 10.9MB/s eta 0:00:01\r\u001b[K     |██████████████████████████████▉ | 1.5MB 10.9MB/s eta 0:00:01\r\u001b[K     |███████████████████████████████ | 1.5MB 10.9MB/s eta 0:00:01\r\u001b[K     |███████████████████████████████▎| 1.5MB 10.9MB/s eta 0:00:01\r\u001b[K     |███████████████████████████████▌| 1.5MB 10.9MB/s eta 0:00:01\r\u001b[K     |███████████████████████████████▊| 1.5MB 10.9MB/s eta 0:00:01\r\u001b[K     |███████████████████████████████▉| 1.5MB 10.9MB/s eta 0:00:01\r\u001b[K     |████████████████████████████████| 1.5MB 10.9MB/s \n",
            "\u001b[?25hInstalling collected packages: pip\n",
            "  Found existing installation: pip 19.3.1\n",
            "    Uninstalling pip-19.3.1:\n",
            "      Successfully uninstalled pip-19.3.1\n",
            "Successfully installed pip-20.3.3\n",
            "Requirement already satisfied: tensorflow in /usr/local/lib/python3.6/dist-packages (2.4.0)\n",
            "Requirement already satisfied: wrapt~=1.12.1 in /usr/local/lib/python3.6/dist-packages (from tensorflow) (1.12.1)\n",
            "Requirement already satisfied: flatbuffers~=1.12.0 in /usr/local/lib/python3.6/dist-packages (from tensorflow) (1.12)\n",
            "Requirement already satisfied: numpy~=1.19.2 in /usr/local/lib/python3.6/dist-packages (from tensorflow) (1.19.5)\n",
            "Requirement already satisfied: wheel~=0.35 in /usr/local/lib/python3.6/dist-packages (from tensorflow) (0.36.2)\n",
            "Requirement already satisfied: h5py~=2.10.0 in /usr/local/lib/python3.6/dist-packages (from tensorflow) (2.10.0)\n",
            "Requirement already satisfied: absl-py~=0.10 in /usr/local/lib/python3.6/dist-packages (from tensorflow) (0.10.0)\n",
            "Requirement already satisfied: grpcio~=1.32.0 in /usr/local/lib/python3.6/dist-packages (from tensorflow) (1.32.0)\n",
            "Requirement already satisfied: keras-preprocessing~=1.1.2 in /usr/local/lib/python3.6/dist-packages (from tensorflow) (1.1.2)\n",
            "Requirement already satisfied: opt-einsum~=3.3.0 in /usr/local/lib/python3.6/dist-packages (from tensorflow) (3.3.0)\n",
            "Requirement already satisfied: google-pasta~=0.2 in /usr/local/lib/python3.6/dist-packages (from tensorflow) (0.2.0)\n",
            "Requirement already satisfied: six~=1.15.0 in /usr/local/lib/python3.6/dist-packages (from tensorflow) (1.15.0)\n",
            "Requirement already satisfied: gast==0.3.3 in /usr/local/lib/python3.6/dist-packages (from tensorflow) (0.3.3)\n",
            "Requirement already satisfied: tensorflow-estimator<2.5.0,>=2.4.0rc0 in /usr/local/lib/python3.6/dist-packages (from tensorflow) (2.4.0)\n",
            "Requirement already satisfied: typing-extensions~=3.7.4 in /usr/local/lib/python3.6/dist-packages (from tensorflow) (3.7.4.3)\n",
            "Requirement already satisfied: protobuf>=3.9.2 in /usr/local/lib/python3.6/dist-packages (from tensorflow) (3.12.4)\n",
            "Requirement already satisfied: astunparse~=1.6.3 in /usr/local/lib/python3.6/dist-packages (from tensorflow) (1.6.3)\n",
            "Requirement already satisfied: termcolor~=1.1.0 in /usr/local/lib/python3.6/dist-packages (from tensorflow) (1.1.0)\n",
            "Requirement already satisfied: tensorboard~=2.4 in /usr/local/lib/python3.6/dist-packages (from tensorflow) (2.4.0)\n",
            "Requirement already satisfied: setuptools in /usr/local/lib/python3.6/dist-packages (from protobuf>=3.9.2->tensorflow) (51.1.1)\n",
            "Requirement already satisfied: google-auth-oauthlib<0.5,>=0.4.1 in /usr/local/lib/python3.6/dist-packages (from tensorboard~=2.4->tensorflow) (0.4.2)\n",
            "Requirement already satisfied: requests<3,>=2.21.0 in /usr/local/lib/python3.6/dist-packages (from tensorboard~=2.4->tensorflow) (2.23.0)\n",
            "Requirement already satisfied: google-auth<2,>=1.6.3 in /usr/local/lib/python3.6/dist-packages (from tensorboard~=2.4->tensorflow) (1.17.2)\n",
            "Requirement already satisfied: tensorboard-plugin-wit>=1.6.0 in /usr/local/lib/python3.6/dist-packages (from tensorboard~=2.4->tensorflow) (1.7.0)\n",
            "Requirement already satisfied: markdown>=2.6.8 in /usr/local/lib/python3.6/dist-packages (from tensorboard~=2.4->tensorflow) (3.3.3)\n",
            "Requirement already satisfied: werkzeug>=0.11.15 in /usr/local/lib/python3.6/dist-packages (from tensorboard~=2.4->tensorflow) (1.0.1)\n",
            "Requirement already satisfied: pyasn1-modules>=0.2.1 in /usr/local/lib/python3.6/dist-packages (from google-auth<2,>=1.6.3->tensorboard~=2.4->tensorflow) (0.2.8)\n",
            "Requirement already satisfied: cachetools<5.0,>=2.0.0 in /usr/local/lib/python3.6/dist-packages (from google-auth<2,>=1.6.3->tensorboard~=2.4->tensorflow) (4.2.0)\n",
            "Requirement already satisfied: rsa<5,>=3.1.4 in /usr/local/lib/python3.6/dist-packages (from google-auth<2,>=1.6.3->tensorboard~=2.4->tensorflow) (4.6)\n",
            "Requirement already satisfied: requests-oauthlib>=0.7.0 in /usr/local/lib/python3.6/dist-packages (from google-auth-oauthlib<0.5,>=0.4.1->tensorboard~=2.4->tensorflow) (1.3.0)\n",
            "Requirement already satisfied: importlib-metadata in /usr/local/lib/python3.6/dist-packages (from markdown>=2.6.8->tensorboard~=2.4->tensorflow) (3.3.0)\n",
            "Requirement already satisfied: pyasn1<0.5.0,>=0.4.6 in /usr/local/lib/python3.6/dist-packages (from pyasn1-modules>=0.2.1->google-auth<2,>=1.6.3->tensorboard~=2.4->tensorflow) (0.4.8)\n",
            "Requirement already satisfied: certifi>=2017.4.17 in /usr/local/lib/python3.6/dist-packages (from requests<3,>=2.21.0->tensorboard~=2.4->tensorflow) (2020.12.5)\n",
            "Requirement already satisfied: idna<3,>=2.5 in /usr/local/lib/python3.6/dist-packages (from requests<3,>=2.21.0->tensorboard~=2.4->tensorflow) (2.10)\n",
            "Requirement already satisfied: urllib3!=1.25.0,!=1.25.1,<1.26,>=1.21.1 in /usr/local/lib/python3.6/dist-packages (from requests<3,>=2.21.0->tensorboard~=2.4->tensorflow) (1.24.3)\n",
            "Requirement already satisfied: chardet<4,>=3.0.2 in /usr/local/lib/python3.6/dist-packages (from requests<3,>=2.21.0->tensorboard~=2.4->tensorflow) (3.0.4)\n",
            "Requirement already satisfied: oauthlib>=3.0.0 in /usr/local/lib/python3.6/dist-packages (from requests-oauthlib>=0.7.0->google-auth-oauthlib<0.5,>=0.4.1->tensorboard~=2.4->tensorflow) (3.1.0)\n",
            "Requirement already satisfied: zipp>=0.5 in /usr/local/lib/python3.6/dist-packages (from importlib-metadata->markdown>=2.6.8->tensorboard~=2.4->tensorflow) (3.4.0)\n"
          ],
          "name": "stdout"
        }
      ]
    },
    {
      "cell_type": "markdown",
      "metadata": {
        "id": "A7KrL6f2ehMb"
      },
      "source": [
        "### Keras\n",
        "Keras and TensorFlow have a shared history together. With TensorFlow 2.0, you should be using tf.keras rather than the separate Keras package.\n",
        "\n",
        "For more readings: https://www.pyimagesearch.com/2019/10/21/keras-vs-tf-keras-whats-the-difference-in-tensorflow-2-0/"
      ]
    },
    {
      "cell_type": "markdown",
      "metadata": {
        "id": "orsA8-gTehMb"
      },
      "source": [
        "## Alternative environments for running the notebooks\n",
        "\n",
        "#### Google Colab\n",
        "Google Colab allows you to run a notebook on Google Drive (with limited GPU support): https://colab.research.google.com/notebooks/gpu.ipynb A more detailed tutorial can be found here (you won't need PyTorch for this course, but you can check it out): https://towardsdatascience.com/fast-ai-lesson-1-on-google-colab-free-gpu-d2af89f53604\n",
        "\n",
        "There are limitations (obviously): right now GPU usage is limited to 12h and RAM is shared among multiple users.\n",
        "\n",
        "Note: You need to upload your course notebooks to colab yourself (File > Upload Notebook). You can install additional packages from within notebooks with '!pip install package'."
      ]
    },
    {
      "cell_type": "markdown",
      "metadata": {
        "id": "SWnzt2jqehMc"
      },
      "source": [
        " # Data representation for NN"
      ]
    },
    {
      "cell_type": "code",
      "metadata": {
        "colab": {
          "base_uri": "https://localhost:8080/"
        },
        "id": "i0vY4tmpehMc",
        "outputId": "45c80c6d-e93e-4731-8638-4d6da12bd951"
      },
      "source": [
        "import numpy as np\n",
        "#Scalar\n",
        "x = np.array(12)\n",
        "print(x.ndim)"
      ],
      "execution_count": null,
      "outputs": [
        {
          "output_type": "stream",
          "text": [
            "0\n"
          ],
          "name": "stdout"
        }
      ]
    },
    {
      "cell_type": "code",
      "metadata": {
        "colab": {
          "base_uri": "https://localhost:8080/"
        },
        "id": "64BmOjstehMc",
        "outputId": "e2e404d8-c8a6-445a-e1f7-6584812ee02d"
      },
      "source": [
        "#Vectors (1D tensors)\n",
        "x = np.array([12, 3, 6, 14, 7])\n",
        "x.ndim"
      ],
      "execution_count": null,
      "outputs": [
        {
          "output_type": "execute_result",
          "data": {
            "text/plain": [
              "1"
            ]
          },
          "metadata": {
            "tags": []
          },
          "execution_count": 49
        }
      ]
    },
    {
      "cell_type": "code",
      "metadata": {
        "colab": {
          "base_uri": "https://localhost:8080/"
        },
        "id": "F_q6ozGMehMd",
        "outputId": "b1dfaa3a-b8a7-4b7c-ff34-c304fde563a5"
      },
      "source": [
        "#Matrices (2D tensors)\n",
        "x = np.array([[5, 78, 2, 34, 0],\n",
        "[6, 79, 3, 35, 1],\n",
        "[7, 80, 4, 36, 2]])\n",
        "x.ndim"
      ],
      "execution_count": null,
      "outputs": [
        {
          "output_type": "execute_result",
          "data": {
            "text/plain": [
              "2"
            ]
          },
          "metadata": {
            "tags": []
          },
          "execution_count": 50
        }
      ]
    },
    {
      "cell_type": "code",
      "metadata": {
        "colab": {
          "base_uri": "https://localhost:8080/"
        },
        "id": "ug8R3LgzehMd",
        "outputId": "35dfe14e-fad5-4d60-871d-4b08ee23272c"
      },
      "source": [
        "#3D tensors and higher-dimensional tensors\n",
        "x = np.array([[[5, 78, 2, 34, 0],\n",
        "[6, 79, 3, 35, 1],\n",
        "[7, 80, 4, 36, 2]],\n",
        "[[5, 78, 2, 34, 0],\n",
        "[6, 79, 3, 35, 1],\n",
        "[7, 80, 4, 36, 2]],\n",
        "[[5, 78, 2, 34, 0],\n",
        "[6, 79, 3, 35, 1],\n",
        "[7, 80, 4, 36, 2]]])\n",
        "x.ndim"
      ],
      "execution_count": null,
      "outputs": [
        {
          "output_type": "execute_result",
          "data": {
            "text/plain": [
              "3"
            ]
          },
          "metadata": {
            "tags": []
          },
          "execution_count": 51
        }
      ]
    },
    {
      "cell_type": "code",
      "metadata": {
        "colab": {
          "base_uri": "https://localhost:8080/"
        },
        "id": "kzg6qB2KehMe",
        "outputId": "3846ad7e-f6d4-4050-a76a-caf1b2fa35d3"
      },
      "source": [
        "#Useful properties of ndarrays:\n",
        "my_array = np.array([[1, 0, 3], [0, 1, 2]])\n",
        "my_array.ndim     # number of dimensions (axes), also called the rank\n",
        "my_array.shape    # a matrix with n rows and m columns has shape (n,m)\n",
        "my_array.size     # the total number of elements of the array\n",
        "my_array.dtype    # type of the elements in the array\n"
      ],
      "execution_count": null,
      "outputs": [
        {
          "output_type": "execute_result",
          "data": {
            "text/plain": [
              "dtype('int64')"
            ]
          },
          "metadata": {
            "tags": []
          },
          "execution_count": 7
        }
      ]
    },
    {
      "cell_type": "markdown",
      "metadata": {
        "id": "zPrjYr4JehMe"
      },
      "source": [
        "#### Indexing and Slicing\n",
        "Arrays can be indexed and sliced using [start:stop:stepsize]. Defaults are [0:ndim:1]\n",
        "\n",
        "For multi-dimensional arrays, axes are comma-separated: [x,y,z]."
      ]
    },
    {
      "cell_type": "code",
      "metadata": {
        "colab": {
          "base_uri": "https://localhost:8080/"
        },
        "id": "ncwoJoBTehMf",
        "outputId": "80e4933e-7c2c-4dd1-e827-fed25c4a07a9"
      },
      "source": [
        "a = np.arange(10)**2\n",
        "print(a)\n",
        "print(a[3:10:2])\n",
        "print(a[-1])\n",
        "print(a[::-1])"
      ],
      "execution_count": null,
      "outputs": [
        {
          "output_type": "stream",
          "text": [
            "[ 0  1  4  9 16 25 36 49 64 81]\n",
            "[ 9 25 49 81]\n",
            "81\n",
            "[81 64 49 36 25 16  9  4  1  0]\n"
          ],
          "name": "stdout"
        }
      ]
    },
    {
      "cell_type": "code",
      "metadata": {
        "colab": {
          "base_uri": "https://localhost:8080/"
        },
        "id": "9G-sNz_MehMf",
        "outputId": "da85006d-e009-4138-cbfd-1dd3aa7db98e"
      },
      "source": [
        "b = np.arange(16).reshape(4,4)\n",
        "print(b)\n",
        "b[2,3] # row 2, column 3"
      ],
      "execution_count": null,
      "outputs": [
        {
          "output_type": "stream",
          "text": [
            "[[ 0  1  2  3]\n",
            " [ 4  5  6  7]\n",
            " [ 8  9 10 11]\n",
            " [12 13 14 15]]\n"
          ],
          "name": "stdout"
        },
        {
          "output_type": "execute_result",
          "data": {
            "text/plain": [
              "11"
            ]
          },
          "metadata": {
            "tags": []
          },
          "execution_count": 53
        }
      ]
    },
    {
      "cell_type": "code",
      "metadata": {
        "colab": {
          "base_uri": "https://localhost:8080/"
        },
        "id": "VqFiMUCbehMf",
        "outputId": "c23dba73-de3e-4800-d8c7-4327b27805d1"
      },
      "source": [
        "b[0:3,1] # Values 0 to 3 in column 1 \n"
      ],
      "execution_count": null,
      "outputs": [
        {
          "output_type": "execute_result",
          "data": {
            "text/plain": [
              "array([1, 5, 9])"
            ]
          },
          "metadata": {
            "tags": []
          },
          "execution_count": 54
        }
      ]
    },
    {
      "cell_type": "code",
      "metadata": {
        "colab": {
          "base_uri": "https://localhost:8080/"
        },
        "id": "RxrCTWkWbMhi",
        "outputId": "3a7698d2-55d9-4661-eb6c-2bc56a26e973"
      },
      "source": [
        "b[ : ,1] # The whole column 1\r\n"
      ],
      "execution_count": null,
      "outputs": [
        {
          "output_type": "execute_result",
          "data": {
            "text/plain": [
              "array([ 1,  5,  9, 13])"
            ]
          },
          "metadata": {
            "tags": []
          },
          "execution_count": 55
        }
      ]
    },
    {
      "cell_type": "code",
      "metadata": {
        "colab": {
          "base_uri": "https://localhost:8080/"
        },
        "id": "4vLwi4x2bW-E",
        "outputId": "6b08590c-4d49-474a-b5bc-3181e66e0ac9"
      },
      "source": [
        "b[1:3, : ] # Rows 1:3, all columns"
      ],
      "execution_count": null,
      "outputs": [
        {
          "output_type": "execute_result",
          "data": {
            "text/plain": [
              "array([[ 4,  5,  6,  7],\n",
              "       [ 8,  9, 10, 11]])"
            ]
          },
          "metadata": {
            "tags": []
          },
          "execution_count": 57
        }
      ]
    },
    {
      "cell_type": "markdown",
      "metadata": {
        "id": "SHE8lXgeehMg"
      },
      "source": [
        "### Tensor operations"
      ]
    },
    {
      "cell_type": "code",
      "metadata": {
        "id": "DAs5RVNrehMg"
      },
      "source": [
        "#Element-wise operations\n",
        "import numpy as np\n",
        "x = np.random.random((32, 10))\n",
        "y = np.random.random((32, 10))\n",
        "z = x + y\n",
        "z = np.maximum(z, 0.)"
      ],
      "execution_count": null,
      "outputs": []
    },
    {
      "cell_type": "code",
      "metadata": {
        "id": "IAFZ1Cj_ehMg"
      },
      "source": [
        "#Brocasting\n",
        "import numpy as np\n",
        "x = np.random.random((64, 3, 32, 10))\n",
        "y = np.random.random((32, 10))\n",
        "z = np.maximum(x, y)"
      ],
      "execution_count": null,
      "outputs": []
    },
    {
      "cell_type": "code",
      "metadata": {
        "id": "wg60Zov-ehMg"
      },
      "source": [
        "#Tensor dot\n",
        "#An element-wise product is done with the * operator in Numpy, Keras, Theano,\n",
        "#and TensorFlow. dot uses a different syntax in TensorFlow, but in both Numpy and\n",
        "#Keras it’s done using the standard dot operator:\n",
        "import numpy as np\n",
        "x = np.random.random((1, 10))\n",
        "y = np.random.random((10, 1))\n",
        "z = np.dot(x, y)"
      ],
      "execution_count": null,
      "outputs": []
    },
    {
      "cell_type": "code",
      "metadata": {
        "colab": {
          "base_uri": "https://localhost:8080/"
        },
        "id": "bJCVmUW-ehMh",
        "outputId": "547263be-bbac-498d-d06f-70ab5850632e"
      },
      "source": [
        "#Shape manipulation\n",
        "a = np.floor(10*np.random.random((3,4)))\n",
        "a\n",
        "a.transpose()\n",
        "b = a.ravel() # flatten array\n",
        "b\n",
        "b.reshape(3, -1) # reshape in 3 rows (and as many columns as needed)"
      ],
      "execution_count": null,
      "outputs": [
        {
          "output_type": "execute_result",
          "data": {
            "text/plain": [
              "array([[0., 8., 2., 7.],\n",
              "       [8., 1., 3., 8.],\n",
              "       [6., 5., 2., 0.]])"
            ]
          },
          "metadata": {
            "tags": []
          },
          "execution_count": 63
        }
      ]
    },
    {
      "cell_type": "markdown",
      "metadata": {
        "id": "89joSKMMehMh"
      },
      "source": [
        "# Application - Logistic Regression for Breast Cancer data"
      ]
    },
    {
      "cell_type": "code",
      "metadata": {
        "id": "6GKhFuvJehMh"
      },
      "source": [
        "# Load and prepare data from sklearn built-in datasets\n",
        "from sklearn import datasets\n",
        "from sklearn import model_selection\n",
        "import numpy as np\n",
        "from sklearn import preprocessing\n",
        "from sklearn.model_selection import train_test_split\n",
        "import pandas as pd\n"
      ],
      "execution_count": null,
      "outputs": []
    },
    {
      "cell_type": "code",
      "metadata": {
        "id": "yxXWDeZge0ex"
      },
      "source": [
        "#Load Wisconsin Breast cancer Dataset\r\n",
        "df = pd.read_csv('https://archive.ics.uci.edu/ml/machine-learning-databases/breast-cancer-wisconsin/breast-cancer-wisconsin.data')"
      ],
      "execution_count": null,
      "outputs": []
    },
    {
      "cell_type": "code",
      "metadata": {
        "id": "e-Un51j6e_7J"
      },
      "source": [
        "#Set column names\r\n",
        "df.columns = ['id','clump_thickness','unif_cell_size','unif_cell_shape','marg_adhesion','single_epith_size','bare_nuclei','bland_chrom','norm_nucleoli','mitoses','class']"
      ],
      "execution_count": null,
      "outputs": []
    },
    {
      "cell_type": "code",
      "metadata": {
        "colab": {
          "base_uri": "https://localhost:8080/",
          "height": 222
        },
        "id": "lmr5zd15e-xg",
        "outputId": "bf8e1f7d-dd28-441a-c423-6e2c53862a8c"
      },
      "source": [
        "#View data\r\n",
        "df.head()"
      ],
      "execution_count": null,
      "outputs": [
        {
          "output_type": "execute_result",
          "data": {
            "text/html": [
              "<div>\n",
              "<style scoped>\n",
              "    .dataframe tbody tr th:only-of-type {\n",
              "        vertical-align: middle;\n",
              "    }\n",
              "\n",
              "    .dataframe tbody tr th {\n",
              "        vertical-align: top;\n",
              "    }\n",
              "\n",
              "    .dataframe thead th {\n",
              "        text-align: right;\n",
              "    }\n",
              "</style>\n",
              "<table border=\"1\" class=\"dataframe\">\n",
              "  <thead>\n",
              "    <tr style=\"text-align: right;\">\n",
              "      <th></th>\n",
              "      <th>id</th>\n",
              "      <th>clump_thickness</th>\n",
              "      <th>unif_cell_size</th>\n",
              "      <th>unif_cell_shape</th>\n",
              "      <th>marg_adhesion</th>\n",
              "      <th>single_epith_size</th>\n",
              "      <th>bare_nuclei</th>\n",
              "      <th>bland_chrom</th>\n",
              "      <th>norm_nucleoli</th>\n",
              "      <th>mitoses</th>\n",
              "      <th>class</th>\n",
              "    </tr>\n",
              "  </thead>\n",
              "  <tbody>\n",
              "    <tr>\n",
              "      <th>0</th>\n",
              "      <td>1002945</td>\n",
              "      <td>5</td>\n",
              "      <td>4</td>\n",
              "      <td>4</td>\n",
              "      <td>5</td>\n",
              "      <td>7</td>\n",
              "      <td>10</td>\n",
              "      <td>3</td>\n",
              "      <td>2</td>\n",
              "      <td>1</td>\n",
              "      <td>2</td>\n",
              "    </tr>\n",
              "    <tr>\n",
              "      <th>1</th>\n",
              "      <td>1015425</td>\n",
              "      <td>3</td>\n",
              "      <td>1</td>\n",
              "      <td>1</td>\n",
              "      <td>1</td>\n",
              "      <td>2</td>\n",
              "      <td>2</td>\n",
              "      <td>3</td>\n",
              "      <td>1</td>\n",
              "      <td>1</td>\n",
              "      <td>2</td>\n",
              "    </tr>\n",
              "    <tr>\n",
              "      <th>2</th>\n",
              "      <td>1016277</td>\n",
              "      <td>6</td>\n",
              "      <td>8</td>\n",
              "      <td>8</td>\n",
              "      <td>1</td>\n",
              "      <td>3</td>\n",
              "      <td>4</td>\n",
              "      <td>3</td>\n",
              "      <td>7</td>\n",
              "      <td>1</td>\n",
              "      <td>2</td>\n",
              "    </tr>\n",
              "    <tr>\n",
              "      <th>3</th>\n",
              "      <td>1017023</td>\n",
              "      <td>4</td>\n",
              "      <td>1</td>\n",
              "      <td>1</td>\n",
              "      <td>3</td>\n",
              "      <td>2</td>\n",
              "      <td>1</td>\n",
              "      <td>3</td>\n",
              "      <td>1</td>\n",
              "      <td>1</td>\n",
              "      <td>2</td>\n",
              "    </tr>\n",
              "    <tr>\n",
              "      <th>4</th>\n",
              "      <td>1017122</td>\n",
              "      <td>8</td>\n",
              "      <td>10</td>\n",
              "      <td>10</td>\n",
              "      <td>8</td>\n",
              "      <td>7</td>\n",
              "      <td>10</td>\n",
              "      <td>9</td>\n",
              "      <td>7</td>\n",
              "      <td>1</td>\n",
              "      <td>4</td>\n",
              "    </tr>\n",
              "  </tbody>\n",
              "</table>\n",
              "</div>"
            ],
            "text/plain": [
              "        id  clump_thickness  unif_cell_size  ...  norm_nucleoli  mitoses  class\n",
              "0  1002945                5               4  ...              2        1      2\n",
              "1  1015425                3               1  ...              1        1      2\n",
              "2  1016277                6               8  ...              7        1      2\n",
              "3  1017023                4               1  ...              1        1      2\n",
              "4  1017122                8              10  ...              7        1      4\n",
              "\n",
              "[5 rows x 11 columns]"
            ]
          },
          "metadata": {
            "tags": []
          },
          "execution_count": 66
        }
      ]
    },
    {
      "cell_type": "code",
      "metadata": {
        "id": "ndVvGQCJehMh"
      },
      "source": [
        "#Drop IDs\r\n",
        "df.drop(['id'], inplace=True, axis=1)"
      ],
      "execution_count": null,
      "outputs": []
    },
    {
      "cell_type": "code",
      "metadata": {
        "colab": {
          "base_uri": "https://localhost:8080/",
          "height": 222
        },
        "id": "u7x9ItyPddrU",
        "outputId": "8a630f39-8ebe-45af-a812-2cc864bf82c5"
      },
      "source": [
        "df.head()"
      ],
      "execution_count": null,
      "outputs": [
        {
          "output_type": "execute_result",
          "data": {
            "text/html": [
              "<div>\n",
              "<style scoped>\n",
              "    .dataframe tbody tr th:only-of-type {\n",
              "        vertical-align: middle;\n",
              "    }\n",
              "\n",
              "    .dataframe tbody tr th {\n",
              "        vertical-align: top;\n",
              "    }\n",
              "\n",
              "    .dataframe thead th {\n",
              "        text-align: right;\n",
              "    }\n",
              "</style>\n",
              "<table border=\"1\" class=\"dataframe\">\n",
              "  <thead>\n",
              "    <tr style=\"text-align: right;\">\n",
              "      <th></th>\n",
              "      <th>clump_thickness</th>\n",
              "      <th>unif_cell_size</th>\n",
              "      <th>unif_cell_shape</th>\n",
              "      <th>marg_adhesion</th>\n",
              "      <th>single_epith_size</th>\n",
              "      <th>bare_nuclei</th>\n",
              "      <th>bland_chrom</th>\n",
              "      <th>norm_nucleoli</th>\n",
              "      <th>mitoses</th>\n",
              "      <th>class</th>\n",
              "    </tr>\n",
              "  </thead>\n",
              "  <tbody>\n",
              "    <tr>\n",
              "      <th>0</th>\n",
              "      <td>5</td>\n",
              "      <td>4</td>\n",
              "      <td>4</td>\n",
              "      <td>5</td>\n",
              "      <td>7</td>\n",
              "      <td>10</td>\n",
              "      <td>3</td>\n",
              "      <td>2</td>\n",
              "      <td>1</td>\n",
              "      <td>2</td>\n",
              "    </tr>\n",
              "    <tr>\n",
              "      <th>1</th>\n",
              "      <td>3</td>\n",
              "      <td>1</td>\n",
              "      <td>1</td>\n",
              "      <td>1</td>\n",
              "      <td>2</td>\n",
              "      <td>2</td>\n",
              "      <td>3</td>\n",
              "      <td>1</td>\n",
              "      <td>1</td>\n",
              "      <td>2</td>\n",
              "    </tr>\n",
              "    <tr>\n",
              "      <th>2</th>\n",
              "      <td>6</td>\n",
              "      <td>8</td>\n",
              "      <td>8</td>\n",
              "      <td>1</td>\n",
              "      <td>3</td>\n",
              "      <td>4</td>\n",
              "      <td>3</td>\n",
              "      <td>7</td>\n",
              "      <td>1</td>\n",
              "      <td>2</td>\n",
              "    </tr>\n",
              "    <tr>\n",
              "      <th>3</th>\n",
              "      <td>4</td>\n",
              "      <td>1</td>\n",
              "      <td>1</td>\n",
              "      <td>3</td>\n",
              "      <td>2</td>\n",
              "      <td>1</td>\n",
              "      <td>3</td>\n",
              "      <td>1</td>\n",
              "      <td>1</td>\n",
              "      <td>2</td>\n",
              "    </tr>\n",
              "    <tr>\n",
              "      <th>4</th>\n",
              "      <td>8</td>\n",
              "      <td>10</td>\n",
              "      <td>10</td>\n",
              "      <td>8</td>\n",
              "      <td>7</td>\n",
              "      <td>10</td>\n",
              "      <td>9</td>\n",
              "      <td>7</td>\n",
              "      <td>1</td>\n",
              "      <td>4</td>\n",
              "    </tr>\n",
              "  </tbody>\n",
              "</table>\n",
              "</div>"
            ],
            "text/plain": [
              "   clump_thickness  unif_cell_size  ...  mitoses  class\n",
              "0                5               4  ...        1      2\n",
              "1                3               1  ...        1      2\n",
              "2                6               8  ...        1      2\n",
              "3                4               1  ...        1      2\n",
              "4                8              10  ...        1      4\n",
              "\n",
              "[5 rows x 10 columns]"
            ]
          },
          "metadata": {
            "tags": []
          },
          "execution_count": 68
        }
      ]
    },
    {
      "cell_type": "code",
      "metadata": {
        "id": "0a8QM4FpffP8"
      },
      "source": [
        "#Replace missing values\r\n",
        "df.replace('?', -99999, inplace=True)"
      ],
      "execution_count": null,
      "outputs": []
    },
    {
      "cell_type": "code",
      "metadata": {
        "id": "x07UU_JVhQnU"
      },
      "source": [
        "# Set class IDs: Mapping class values to binary, it is 2 and 4 in our data. (2 for benign, 4 for malignant)\r\n",
        "df['class'] = df['class'].map(lambda x: 1 if x == 4 else 0)"
      ],
      "execution_count": null,
      "outputs": []
    },
    {
      "cell_type": "code",
      "metadata": {
        "colab": {
          "base_uri": "https://localhost:8080/"
        },
        "id": "GF0jH8cqfplw",
        "outputId": "b45defde-dba4-4d6c-fcfe-1f91aae5ca42"
      },
      "source": [
        "# Separate features and the target variable\r\n",
        "X = np.array(df.drop(['class'], axis=1))\r\n",
        "y = np.array(df['class'])\r\n",
        "X.shape, y.shape"
      ],
      "execution_count": null,
      "outputs": [
        {
          "output_type": "execute_result",
          "data": {
            "text/plain": [
              "((698, 9), (698,))"
            ]
          },
          "metadata": {
            "tags": []
          },
          "execution_count": 72
        }
      ]
    },
    {
      "cell_type": "code",
      "metadata": {
        "id": "6aTuq3RyfyaI"
      },
      "source": [
        "# Normalize the data\r\n",
        "scaler = preprocessing.MinMaxScaler()\r\n",
        "X = scaler.fit_transform(X)"
      ],
      "execution_count": null,
      "outputs": []
    },
    {
      "cell_type": "code",
      "metadata": {
        "id": "zDtVdEUjf6qu"
      },
      "source": [
        "#Split into training and testing\r\n",
        "X_train, X_test, y_train, y_test = train_test_split(\r\n",
        "    X, y, test_size=0.2)"
      ],
      "execution_count": null,
      "outputs": []
    },
    {
      "cell_type": "code",
      "metadata": {
        "colab": {
          "base_uri": "https://localhost:8080/"
        },
        "id": "At4hdpkLhITk",
        "outputId": "4853a3a0-21f5-4a8f-aa2a-082398ea1af6"
      },
      "source": [
        "y_test"
      ],
      "execution_count": null,
      "outputs": [
        {
          "output_type": "execute_result",
          "data": {
            "text/plain": [
              "array([0, 1, 1, 0, 0, 1, 1, 0, 1, 0, 0, 0, 0, 1, 0, 0, 0, 0, 0, 0, 0, 1,\n",
              "       0, 1, 0, 0, 0, 0, 0, 0, 0, 0, 0, 0, 1, 1, 1, 0, 0, 0, 0, 0, 1, 1,\n",
              "       0, 1, 1, 0, 1, 0, 0, 0, 0, 0, 1, 0, 0, 0, 1, 0, 1, 1, 0, 0, 0, 0,\n",
              "       1, 1, 0, 0, 0, 0, 0, 1, 0, 1, 1, 0, 1, 0, 0, 0, 0, 1, 0, 0, 0, 0,\n",
              "       0, 1, 0, 0, 1, 0, 0, 0, 1, 0, 0, 1, 0, 0, 0, 0, 1, 1, 1, 0, 0, 0,\n",
              "       0, 0, 0, 0, 0, 1, 1, 1, 1, 0, 1, 1, 0, 0, 1, 0, 1, 0, 0, 0, 0, 0,\n",
              "       0, 0, 0, 0, 0, 0, 1, 1])"
            ]
          },
          "metadata": {
            "tags": []
          },
          "execution_count": 12
        }
      ]
    },
    {
      "cell_type": "code",
      "metadata": {
        "colab": {
          "base_uri": "https://localhost:8080/"
        },
        "id": "Y6VYpEsmf_hv",
        "outputId": "e9bacdd5-a99a-4727-f256-f65b46d1a2ff"
      },
      "source": [
        "X_train.shape, y_train.shape, X_test.shape, y_test.shape"
      ],
      "execution_count": null,
      "outputs": [
        {
          "output_type": "execute_result",
          "data": {
            "text/plain": [
              "((558, 9), (558,), (140, 9), (140,))"
            ]
          },
          "metadata": {
            "tags": []
          },
          "execution_count": 75
        }
      ]
    },
    {
      "cell_type": "code",
      "metadata": {
        "id": "zUpZmA-LehMi"
      },
      "source": [
        "#Create model\n",
        "import tensorflow as tf\n",
        "model = tf.keras.models.Sequential([\n",
        "    #tf.keras.layers.Flatten(),\n",
        "    tf.keras.layers.Dense(1,activation='sigmoid')\n",
        "])"
      ],
      "execution_count": null,
      "outputs": []
    },
    {
      "cell_type": "code",
      "metadata": {
        "id": "3k-_g7U1ehMi"
      },
      "source": [
        "# Define optimizer and loss function\n",
        "opt = tf.keras.optimizers.SGD()\n",
        "\n",
        "model.compile(optimizer=opt,\n",
        "loss='binary_crossentropy',\n",
        "metrics=['accuracy'])"
      ],
      "execution_count": null,
      "outputs": []
    },
    {
      "cell_type": "code",
      "metadata": {
        "colab": {
          "base_uri": "https://localhost:8080/"
        },
        "id": "tOJOY03oehMi",
        "outputId": "c9bb0b5a-7ace-4810-e0a6-b666cd5a43bf"
      },
      "source": [
        "history = model.fit(X_train, y_train, epochs=100,batch_size = 64, validation_data=(X_test, y_test))"
      ],
      "execution_count": null,
      "outputs": [
        {
          "output_type": "stream",
          "text": [
            "Epoch 1/100\n",
            "9/9 [==============================] - 1s 24ms/step - loss: 0.5801 - accuracy: 0.8245 - val_loss: 0.5929 - val_accuracy: 0.8357\n",
            "Epoch 2/100\n",
            "9/9 [==============================] - 0s 6ms/step - loss: 0.5831 - accuracy: 0.8196 - val_loss: 0.5879 - val_accuracy: 0.8357\n",
            "Epoch 3/100\n",
            "9/9 [==============================] - 0s 8ms/step - loss: 0.5757 - accuracy: 0.8277 - val_loss: 0.5830 - val_accuracy: 0.8357\n",
            "Epoch 4/100\n",
            "9/9 [==============================] - 0s 7ms/step - loss: 0.5669 - accuracy: 0.8417 - val_loss: 0.5781 - val_accuracy: 0.8357\n",
            "Epoch 5/100\n",
            "9/9 [==============================] - 0s 7ms/step - loss: 0.5644 - accuracy: 0.8280 - val_loss: 0.5734 - val_accuracy: 0.8357\n",
            "Epoch 6/100\n",
            "9/9 [==============================] - 0s 6ms/step - loss: 0.5588 - accuracy: 0.8502 - val_loss: 0.5688 - val_accuracy: 0.8357\n",
            "Epoch 7/100\n",
            "9/9 [==============================] - 0s 6ms/step - loss: 0.5566 - accuracy: 0.8417 - val_loss: 0.5643 - val_accuracy: 0.8357\n",
            "Epoch 8/100\n",
            "9/9 [==============================] - 0s 6ms/step - loss: 0.5501 - accuracy: 0.8461 - val_loss: 0.5599 - val_accuracy: 0.8357\n",
            "Epoch 9/100\n",
            "9/9 [==============================] - 0s 6ms/step - loss: 0.5487 - accuracy: 0.8473 - val_loss: 0.5555 - val_accuracy: 0.8357\n",
            "Epoch 10/100\n",
            "9/9 [==============================] - 0s 6ms/step - loss: 0.5397 - accuracy: 0.8603 - val_loss: 0.5513 - val_accuracy: 0.8429\n",
            "Epoch 11/100\n",
            "9/9 [==============================] - 0s 6ms/step - loss: 0.5407 - accuracy: 0.8411 - val_loss: 0.5471 - val_accuracy: 0.8429\n",
            "Epoch 12/100\n",
            "9/9 [==============================] - 0s 6ms/step - loss: 0.5383 - accuracy: 0.8432 - val_loss: 0.5430 - val_accuracy: 0.8429\n",
            "Epoch 13/100\n",
            "9/9 [==============================] - 0s 6ms/step - loss: 0.5303 - accuracy: 0.8544 - val_loss: 0.5391 - val_accuracy: 0.8429\n",
            "Epoch 14/100\n",
            "9/9 [==============================] - 0s 6ms/step - loss: 0.5137 - accuracy: 0.8786 - val_loss: 0.5351 - val_accuracy: 0.8500\n",
            "Epoch 15/100\n",
            "9/9 [==============================] - 0s 6ms/step - loss: 0.5150 - accuracy: 0.8746 - val_loss: 0.5313 - val_accuracy: 0.8500\n",
            "Epoch 16/100\n",
            "9/9 [==============================] - 0s 6ms/step - loss: 0.5214 - accuracy: 0.8606 - val_loss: 0.5274 - val_accuracy: 0.8500\n",
            "Epoch 17/100\n",
            "9/9 [==============================] - 0s 6ms/step - loss: 0.5109 - accuracy: 0.8620 - val_loss: 0.5237 - val_accuracy: 0.8500\n",
            "Epoch 18/100\n",
            "9/9 [==============================] - 0s 7ms/step - loss: 0.5092 - accuracy: 0.8694 - val_loss: 0.5200 - val_accuracy: 0.8500\n",
            "Epoch 19/100\n",
            "9/9 [==============================] - 0s 7ms/step - loss: 0.5031 - accuracy: 0.8805 - val_loss: 0.5164 - val_accuracy: 0.8500\n",
            "Epoch 20/100\n",
            "9/9 [==============================] - 0s 6ms/step - loss: 0.5127 - accuracy: 0.8590 - val_loss: 0.5128 - val_accuracy: 0.8500\n",
            "Epoch 21/100\n",
            "9/9 [==============================] - 0s 7ms/step - loss: 0.5054 - accuracy: 0.8552 - val_loss: 0.5093 - val_accuracy: 0.8500\n",
            "Epoch 22/100\n",
            "9/9 [==============================] - 0s 6ms/step - loss: 0.5104 - accuracy: 0.8557 - val_loss: 0.5058 - val_accuracy: 0.8500\n",
            "Epoch 23/100\n",
            "9/9 [==============================] - 0s 8ms/step - loss: 0.5008 - accuracy: 0.8491 - val_loss: 0.5024 - val_accuracy: 0.8500\n",
            "Epoch 24/100\n",
            "9/9 [==============================] - 0s 8ms/step - loss: 0.4869 - accuracy: 0.8686 - val_loss: 0.4990 - val_accuracy: 0.8500\n",
            "Epoch 25/100\n",
            "9/9 [==============================] - 0s 7ms/step - loss: 0.4837 - accuracy: 0.8810 - val_loss: 0.4957 - val_accuracy: 0.8500\n",
            "Epoch 26/100\n",
            "9/9 [==============================] - 0s 6ms/step - loss: 0.4838 - accuracy: 0.8803 - val_loss: 0.4925 - val_accuracy: 0.8500\n",
            "Epoch 27/100\n",
            "9/9 [==============================] - 0s 6ms/step - loss: 0.4890 - accuracy: 0.8667 - val_loss: 0.4893 - val_accuracy: 0.8500\n",
            "Epoch 28/100\n",
            "9/9 [==============================] - 0s 6ms/step - loss: 0.4818 - accuracy: 0.8675 - val_loss: 0.4861 - val_accuracy: 0.8500\n",
            "Epoch 29/100\n",
            "9/9 [==============================] - 0s 6ms/step - loss: 0.4855 - accuracy: 0.8628 - val_loss: 0.4830 - val_accuracy: 0.8500\n",
            "Epoch 30/100\n",
            "9/9 [==============================] - 0s 22ms/step - loss: 0.4916 - accuracy: 0.8582 - val_loss: 0.4799 - val_accuracy: 0.8500\n",
            "Epoch 31/100\n",
            "9/9 [==============================] - 0s 6ms/step - loss: 0.4735 - accuracy: 0.8820 - val_loss: 0.4769 - val_accuracy: 0.8500\n",
            "Epoch 32/100\n",
            "9/9 [==============================] - 0s 6ms/step - loss: 0.4667 - accuracy: 0.8768 - val_loss: 0.4740 - val_accuracy: 0.8643\n",
            "Epoch 33/100\n",
            "9/9 [==============================] - 0s 6ms/step - loss: 0.4632 - accuracy: 0.8888 - val_loss: 0.4711 - val_accuracy: 0.8643\n",
            "Epoch 34/100\n",
            "9/9 [==============================] - 0s 6ms/step - loss: 0.4772 - accuracy: 0.8578 - val_loss: 0.4682 - val_accuracy: 0.8643\n",
            "Epoch 35/100\n",
            "9/9 [==============================] - 0s 6ms/step - loss: 0.4694 - accuracy: 0.8685 - val_loss: 0.4653 - val_accuracy: 0.8643\n",
            "Epoch 36/100\n",
            "9/9 [==============================] - 0s 7ms/step - loss: 0.4584 - accuracy: 0.8770 - val_loss: 0.4625 - val_accuracy: 0.8786\n",
            "Epoch 37/100\n",
            "9/9 [==============================] - 0s 6ms/step - loss: 0.4590 - accuracy: 0.8739 - val_loss: 0.4598 - val_accuracy: 0.8786\n",
            "Epoch 38/100\n",
            "9/9 [==============================] - 0s 6ms/step - loss: 0.4573 - accuracy: 0.8753 - val_loss: 0.4570 - val_accuracy: 0.8786\n",
            "Epoch 39/100\n",
            "9/9 [==============================] - 0s 7ms/step - loss: 0.4547 - accuracy: 0.8717 - val_loss: 0.4543 - val_accuracy: 0.8786\n",
            "Epoch 40/100\n",
            "9/9 [==============================] - 0s 7ms/step - loss: 0.4492 - accuracy: 0.8812 - val_loss: 0.4517 - val_accuracy: 0.8786\n",
            "Epoch 41/100\n",
            "9/9 [==============================] - 0s 6ms/step - loss: 0.4351 - accuracy: 0.9047 - val_loss: 0.4490 - val_accuracy: 0.8786\n",
            "Epoch 42/100\n",
            "9/9 [==============================] - 0s 6ms/step - loss: 0.4512 - accuracy: 0.8674 - val_loss: 0.4464 - val_accuracy: 0.8786\n",
            "Epoch 43/100\n",
            "9/9 [==============================] - 0s 7ms/step - loss: 0.4424 - accuracy: 0.8775 - val_loss: 0.4439 - val_accuracy: 0.8786\n",
            "Epoch 44/100\n",
            "9/9 [==============================] - 0s 7ms/step - loss: 0.4356 - accuracy: 0.8867 - val_loss: 0.4414 - val_accuracy: 0.8786\n",
            "Epoch 45/100\n",
            "9/9 [==============================] - 0s 6ms/step - loss: 0.4364 - accuracy: 0.8856 - val_loss: 0.4389 - val_accuracy: 0.8786\n",
            "Epoch 46/100\n",
            "9/9 [==============================] - 0s 8ms/step - loss: 0.4281 - accuracy: 0.8906 - val_loss: 0.4365 - val_accuracy: 0.8786\n",
            "Epoch 47/100\n",
            "9/9 [==============================] - 0s 5ms/step - loss: 0.4446 - accuracy: 0.8746 - val_loss: 0.4340 - val_accuracy: 0.8786\n",
            "Epoch 48/100\n",
            "9/9 [==============================] - 0s 5ms/step - loss: 0.4180 - accuracy: 0.8983 - val_loss: 0.4317 - val_accuracy: 0.8786\n",
            "Epoch 49/100\n",
            "9/9 [==============================] - 0s 5ms/step - loss: 0.4283 - accuracy: 0.8889 - val_loss: 0.4293 - val_accuracy: 0.8786\n",
            "Epoch 50/100\n",
            "9/9 [==============================] - 0s 6ms/step - loss: 0.4217 - accuracy: 0.8975 - val_loss: 0.4270 - val_accuracy: 0.8786\n",
            "Epoch 51/100\n",
            "9/9 [==============================] - 0s 6ms/step - loss: 0.4214 - accuracy: 0.8931 - val_loss: 0.4247 - val_accuracy: 0.8786\n",
            "Epoch 52/100\n",
            "9/9 [==============================] - 0s 7ms/step - loss: 0.4125 - accuracy: 0.8868 - val_loss: 0.4224 - val_accuracy: 0.8786\n",
            "Epoch 53/100\n",
            "9/9 [==============================] - 0s 7ms/step - loss: 0.4214 - accuracy: 0.8845 - val_loss: 0.4202 - val_accuracy: 0.8786\n",
            "Epoch 54/100\n",
            "9/9 [==============================] - 0s 7ms/step - loss: 0.4241 - accuracy: 0.8720 - val_loss: 0.4180 - val_accuracy: 0.8786\n",
            "Epoch 55/100\n",
            "9/9 [==============================] - 0s 6ms/step - loss: 0.4178 - accuracy: 0.8801 - val_loss: 0.4158 - val_accuracy: 0.8857\n",
            "Epoch 56/100\n",
            "9/9 [==============================] - 0s 6ms/step - loss: 0.4179 - accuracy: 0.8771 - val_loss: 0.4137 - val_accuracy: 0.8857\n",
            "Epoch 57/100\n",
            "9/9 [==============================] - 0s 7ms/step - loss: 0.4157 - accuracy: 0.8863 - val_loss: 0.4115 - val_accuracy: 0.8857\n",
            "Epoch 58/100\n",
            "9/9 [==============================] - 0s 7ms/step - loss: 0.3994 - accuracy: 0.8991 - val_loss: 0.4094 - val_accuracy: 0.8857\n",
            "Epoch 59/100\n",
            "9/9 [==============================] - 0s 7ms/step - loss: 0.4134 - accuracy: 0.8970 - val_loss: 0.4073 - val_accuracy: 0.8857\n",
            "Epoch 60/100\n",
            "9/9 [==============================] - 0s 7ms/step - loss: 0.4116 - accuracy: 0.8777 - val_loss: 0.4053 - val_accuracy: 0.8857\n",
            "Epoch 61/100\n",
            "9/9 [==============================] - 0s 7ms/step - loss: 0.3899 - accuracy: 0.9111 - val_loss: 0.4033 - val_accuracy: 0.8857\n",
            "Epoch 62/100\n",
            "9/9 [==============================] - 0s 6ms/step - loss: 0.4017 - accuracy: 0.8891 - val_loss: 0.4013 - val_accuracy: 0.8857\n",
            "Epoch 63/100\n",
            "9/9 [==============================] - 0s 6ms/step - loss: 0.3924 - accuracy: 0.9094 - val_loss: 0.3993 - val_accuracy: 0.8857\n",
            "Epoch 64/100\n",
            "9/9 [==============================] - 0s 6ms/step - loss: 0.3969 - accuracy: 0.8980 - val_loss: 0.3973 - val_accuracy: 0.8857\n",
            "Epoch 65/100\n",
            "9/9 [==============================] - 0s 7ms/step - loss: 0.4053 - accuracy: 0.8886 - val_loss: 0.3954 - val_accuracy: 0.8857\n",
            "Epoch 66/100\n",
            "9/9 [==============================] - 0s 7ms/step - loss: 0.3927 - accuracy: 0.8943 - val_loss: 0.3935 - val_accuracy: 0.8857\n",
            "Epoch 67/100\n",
            "9/9 [==============================] - 0s 6ms/step - loss: 0.3932 - accuracy: 0.8880 - val_loss: 0.3916 - val_accuracy: 0.8857\n",
            "Epoch 68/100\n",
            "9/9 [==============================] - 0s 7ms/step - loss: 0.3987 - accuracy: 0.8952 - val_loss: 0.3897 - val_accuracy: 0.8857\n",
            "Epoch 69/100\n",
            "9/9 [==============================] - 0s 7ms/step - loss: 0.3906 - accuracy: 0.8961 - val_loss: 0.3878 - val_accuracy: 0.8929\n",
            "Epoch 70/100\n",
            "9/9 [==============================] - 0s 7ms/step - loss: 0.4046 - accuracy: 0.8793 - val_loss: 0.3860 - val_accuracy: 0.8929\n",
            "Epoch 71/100\n",
            "9/9 [==============================] - 0s 6ms/step - loss: 0.3879 - accuracy: 0.8980 - val_loss: 0.3842 - val_accuracy: 0.8929\n",
            "Epoch 72/100\n",
            "9/9 [==============================] - 0s 7ms/step - loss: 0.3873 - accuracy: 0.9045 - val_loss: 0.3824 - val_accuracy: 0.8929\n",
            "Epoch 73/100\n",
            "9/9 [==============================] - 0s 7ms/step - loss: 0.3789 - accuracy: 0.9130 - val_loss: 0.3806 - val_accuracy: 0.8929\n",
            "Epoch 74/100\n",
            "9/9 [==============================] - 0s 7ms/step - loss: 0.3778 - accuracy: 0.9060 - val_loss: 0.3789 - val_accuracy: 0.8929\n",
            "Epoch 75/100\n",
            "9/9 [==============================] - 0s 6ms/step - loss: 0.3932 - accuracy: 0.8893 - val_loss: 0.3772 - val_accuracy: 0.8929\n",
            "Epoch 76/100\n",
            "9/9 [==============================] - 0s 7ms/step - loss: 0.3899 - accuracy: 0.8850 - val_loss: 0.3754 - val_accuracy: 0.8929\n",
            "Epoch 77/100\n",
            "9/9 [==============================] - 0s 6ms/step - loss: 0.3593 - accuracy: 0.9137 - val_loss: 0.3737 - val_accuracy: 0.8929\n",
            "Epoch 78/100\n",
            "9/9 [==============================] - 0s 8ms/step - loss: 0.3772 - accuracy: 0.9093 - val_loss: 0.3721 - val_accuracy: 0.8929\n",
            "Epoch 79/100\n",
            "9/9 [==============================] - 0s 7ms/step - loss: 0.3865 - accuracy: 0.8872 - val_loss: 0.3704 - val_accuracy: 0.8929\n",
            "Epoch 80/100\n",
            "9/9 [==============================] - 0s 6ms/step - loss: 0.3707 - accuracy: 0.9015 - val_loss: 0.3688 - val_accuracy: 0.8929\n",
            "Epoch 81/100\n",
            "9/9 [==============================] - 0s 7ms/step - loss: 0.3757 - accuracy: 0.8959 - val_loss: 0.3671 - val_accuracy: 0.8929\n",
            "Epoch 82/100\n",
            "9/9 [==============================] - 0s 6ms/step - loss: 0.3638 - accuracy: 0.8963 - val_loss: 0.3655 - val_accuracy: 0.8929\n",
            "Epoch 83/100\n",
            "9/9 [==============================] - 0s 7ms/step - loss: 0.3825 - accuracy: 0.8957 - val_loss: 0.3639 - val_accuracy: 0.8929\n",
            "Epoch 84/100\n",
            "9/9 [==============================] - 0s 6ms/step - loss: 0.3540 - accuracy: 0.9134 - val_loss: 0.3624 - val_accuracy: 0.8929\n",
            "Epoch 85/100\n",
            "9/9 [==============================] - 0s 8ms/step - loss: 0.3719 - accuracy: 0.9085 - val_loss: 0.3608 - val_accuracy: 0.9000\n",
            "Epoch 86/100\n",
            "9/9 [==============================] - 0s 22ms/step - loss: 0.3664 - accuracy: 0.8997 - val_loss: 0.3593 - val_accuracy: 0.9000\n",
            "Epoch 87/100\n",
            "9/9 [==============================] - 0s 6ms/step - loss: 0.3556 - accuracy: 0.9171 - val_loss: 0.3578 - val_accuracy: 0.9000\n",
            "Epoch 88/100\n",
            "9/9 [==============================] - 0s 7ms/step - loss: 0.3711 - accuracy: 0.8939 - val_loss: 0.3562 - val_accuracy: 0.9000\n",
            "Epoch 89/100\n",
            "9/9 [==============================] - 0s 7ms/step - loss: 0.3458 - accuracy: 0.9243 - val_loss: 0.3548 - val_accuracy: 0.9000\n",
            "Epoch 90/100\n",
            "9/9 [==============================] - 0s 7ms/step - loss: 0.3526 - accuracy: 0.9087 - val_loss: 0.3533 - val_accuracy: 0.9000\n",
            "Epoch 91/100\n",
            "9/9 [==============================] - 0s 7ms/step - loss: 0.3484 - accuracy: 0.9223 - val_loss: 0.3518 - val_accuracy: 0.9071\n",
            "Epoch 92/100\n",
            "9/9 [==============================] - 0s 6ms/step - loss: 0.3513 - accuracy: 0.9117 - val_loss: 0.3504 - val_accuracy: 0.9071\n",
            "Epoch 93/100\n",
            "9/9 [==============================] - 0s 7ms/step - loss: 0.3519 - accuracy: 0.9051 - val_loss: 0.3490 - val_accuracy: 0.9071\n",
            "Epoch 94/100\n",
            "9/9 [==============================] - 0s 7ms/step - loss: 0.3529 - accuracy: 0.9016 - val_loss: 0.3475 - val_accuracy: 0.9071\n",
            "Epoch 95/100\n",
            "9/9 [==============================] - 0s 7ms/step - loss: 0.3385 - accuracy: 0.9140 - val_loss: 0.3461 - val_accuracy: 0.9071\n",
            "Epoch 96/100\n",
            "9/9 [==============================] - 0s 4ms/step - loss: 0.3616 - accuracy: 0.8927 - val_loss: 0.3448 - val_accuracy: 0.9071\n",
            "Epoch 97/100\n",
            "9/9 [==============================] - 0s 6ms/step - loss: 0.3455 - accuracy: 0.9154 - val_loss: 0.3434 - val_accuracy: 0.9071\n",
            "Epoch 98/100\n",
            "9/9 [==============================] - 0s 6ms/step - loss: 0.3560 - accuracy: 0.8917 - val_loss: 0.3420 - val_accuracy: 0.9071\n",
            "Epoch 99/100\n",
            "9/9 [==============================] - 0s 7ms/step - loss: 0.3408 - accuracy: 0.9256 - val_loss: 0.3407 - val_accuracy: 0.9071\n",
            "Epoch 100/100\n",
            "9/9 [==============================] - 0s 8ms/step - loss: 0.3429 - accuracy: 0.9177 - val_loss: 0.3393 - val_accuracy: 0.9071\n"
          ],
          "name": "stdout"
        }
      ]
    },
    {
      "cell_type": "code",
      "metadata": {
        "colab": {
          "base_uri": "https://localhost:8080/"
        },
        "id": "IimkLExGhtma",
        "outputId": "fe569a0c-c626-4332-e38f-5ad76f3d1f04"
      },
      "source": [
        "model.summary()"
      ],
      "execution_count": null,
      "outputs": [
        {
          "output_type": "stream",
          "text": [
            "Model: \"sequential_1\"\n",
            "_________________________________________________________________\n",
            "Layer (type)                 Output Shape              Param #   \n",
            "=================================================================\n",
            "dense_1 (Dense)              (None, 1)                 10        \n",
            "=================================================================\n",
            "Total params: 10\n",
            "Trainable params: 10\n",
            "Non-trainable params: 0\n",
            "_________________________________________________________________\n"
          ],
          "name": "stdout"
        }
      ]
    },
    {
      "cell_type": "markdown",
      "metadata": {
        "id": "eTHwnpe4ehMi"
      },
      "source": [
        "# Performance Evaluation"
      ]
    },
    {
      "cell_type": "code",
      "metadata": {
        "colab": {
          "base_uri": "https://localhost:8080/",
          "height": 573
        },
        "id": "j5vgQ3sqehMj",
        "outputId": "2826b411-97c8-4093-ef29-c7fedaeeda7f"
      },
      "source": [
        "import matplotlib.pyplot as plt\n",
        "# summarize history for accuracy\n",
        "plt.plot(history.history['accuracy'])\n",
        "plt.plot(history.history['val_accuracy'])\n",
        "plt.title('model accuracy')\n",
        "plt.ylabel('accuracy')\n",
        "plt.xlabel('epoch')\n",
        "plt.legend(['train', 'test'], loc='upper left')\n",
        "plt.show()\n",
        "# summarize history for loss\n",
        "plt.plot(history.history['loss'])\n",
        "plt.plot(history.history['val_loss'])\n",
        "plt.title('model loss')\n",
        "plt.ylabel('loss')\n",
        "plt.xlabel('epoch')\n",
        "plt.legend(['train', 'test'], loc='upper left')\n",
        "plt.show()"
      ],
      "execution_count": null,
      "outputs": [
        {
          "output_type": "display_data",
          "data": {
            "image/png": "[encoded data removed]",
            "text/plain": [
              "<Figure size 432x288 with 1 Axes>"
            ]
          },
          "metadata": {
            "tags": [],
            "needs_background": "light"
          }
        },
        {
          "output_type": "display_data",
          "data": {
            "image/png": "[encoded data removed]",
            "text/plain": [
              "<Figure size 432x288 with 1 Axes>"
            ]
          },
          "metadata": {
            "tags": [],
            "needs_background": "light"
          }
        }
      ]
    },
    {
      "cell_type": "code",
      "metadata": {
        "colab": {
          "base_uri": "https://localhost:8080/"
        },
        "id": "dSvPvf97ehMj",
        "outputId": "848aa418-4740-4fcb-c3c3-9135f52602cf"
      },
      "source": [
        "## Find misclassified sample\r\n",
        "print('Testing labels', y_test)\r\n",
        "\r\n"
      ],
      "execution_count": null,
      "outputs": [
        {
          "output_type": "stream",
          "text": [
            "Testing labels [0 0 1 0 0 0 1 0 0 0 0 0 0 0 0 0 1 0 0 0 1 0 1 0 0 1 0 0 1 0 0 1 1 0 0 0 1\n",
            " 1 0 0 0 0 0 1 0 1 1 0 0 1 1 1 0 0 1 1 0 0 1 0 1 1 1 0 1 0 0 0 0 1 0 0 0 1\n",
            " 0 0 0 0 0 1 0 0 0 0 1 0 0 0 0 0 1 0 0 0 0 1 0 1 0 0 0 1 0 0 1 1 0 0 0 0 0\n",
            " 0 0 1 0 1 0 0 1 0 0 0 1 0 0 1 0 1 0 0 0 1 0 1 0 0 1 0 1 1]\n"
          ],
          "name": "stdout"
        }
      ]
    },
    {
      "cell_type": "code",
      "metadata": {
        "colab": {
          "base_uri": "https://localhost:8080/"
        },
        "id": "DlKXXcXmgMvu",
        "outputId": "40b2c0cf-9e4a-422e-ebea-8d859a369313"
      },
      "source": [
        "y_pred = (model.predict(X_test) > 0.5).astype(\"int32\")\r\n",
        "y_pred"
      ],
      "execution_count": null,
      "outputs": [
        {
          "output_type": "execute_result",
          "data": {
            "text/plain": [
              "array([[0],\n",
              "       [0],\n",
              "       [1],\n",
              "       [0],\n",
              "       [0],\n",
              "       [0],\n",
              "       [1],\n",
              "       [0],\n",
              "       [0],\n",
              "       [0],\n",
              "       [0],\n",
              "       [0],\n",
              "       [0],\n",
              "       [0],\n",
              "       [0],\n",
              "       [0],\n",
              "       [1],\n",
              "       [0],\n",
              "       [0],\n",
              "       [0],\n",
              "       [1],\n",
              "       [0],\n",
              "       [0],\n",
              "       [0],\n",
              "       [0],\n",
              "       [1],\n",
              "       [0],\n",
              "       [0],\n",
              "       [1],\n",
              "       [0],\n",
              "       [0],\n",
              "       [0],\n",
              "       [0],\n",
              "       [0],\n",
              "       [0],\n",
              "       [1],\n",
              "       [1],\n",
              "       [1],\n",
              "       [0],\n",
              "       [0],\n",
              "       [0],\n",
              "       [1],\n",
              "       [0],\n",
              "       [0],\n",
              "       [0],\n",
              "       [1],\n",
              "       [1],\n",
              "       [0],\n",
              "       [0],\n",
              "       [1],\n",
              "       [1],\n",
              "       [1],\n",
              "       [0],\n",
              "       [0],\n",
              "       [0],\n",
              "       [1],\n",
              "       [0],\n",
              "       [0],\n",
              "       [0],\n",
              "       [0],\n",
              "       [1],\n",
              "       [0],\n",
              "       [1],\n",
              "       [0],\n",
              "       [1],\n",
              "       [0],\n",
              "       [0],\n",
              "       [0],\n",
              "       [0],\n",
              "       [0],\n",
              "       [0],\n",
              "       [0],\n",
              "       [0],\n",
              "       [1],\n",
              "       [0],\n",
              "       [0],\n",
              "       [0],\n",
              "       [0],\n",
              "       [0],\n",
              "       [1],\n",
              "       [0],\n",
              "       [0],\n",
              "       [0],\n",
              "       [0],\n",
              "       [0],\n",
              "       [0],\n",
              "       [0],\n",
              "       [0],\n",
              "       [0],\n",
              "       [0],\n",
              "       [1],\n",
              "       [0],\n",
              "       [0],\n",
              "       [0],\n",
              "       [0],\n",
              "       [1],\n",
              "       [0],\n",
              "       [1],\n",
              "       [0],\n",
              "       [0],\n",
              "       [0],\n",
              "       [1],\n",
              "       [0],\n",
              "       [0],\n",
              "       [1],\n",
              "       [1],\n",
              "       [0],\n",
              "       [0],\n",
              "       [0],\n",
              "       [0],\n",
              "       [0],\n",
              "       [0],\n",
              "       [0],\n",
              "       [1],\n",
              "       [0],\n",
              "       [1],\n",
              "       [0],\n",
              "       [0],\n",
              "       [1],\n",
              "       [0],\n",
              "       [0],\n",
              "       [0],\n",
              "       [1],\n",
              "       [0],\n",
              "       [0],\n",
              "       [0],\n",
              "       [0],\n",
              "       [1],\n",
              "       [0],\n",
              "       [0],\n",
              "       [0],\n",
              "       [1],\n",
              "       [0],\n",
              "       [1],\n",
              "       [0],\n",
              "       [0],\n",
              "       [1],\n",
              "       [0],\n",
              "       [1],\n",
              "       [0]], dtype=int32)"
            ]
          },
          "metadata": {
            "tags": []
          },
          "execution_count": 83
        }
      ]
    },
    {
      "cell_type": "code",
      "metadata": {
        "colab": {
          "base_uri": "https://localhost:8080/"
        },
        "id": "YpR0_iPtgR0U",
        "outputId": "cb4f0686-0ec9-4453-9db0-87035e65cbe5"
      },
      "source": [
        "y_pred = np.array([y_pred[i][0] for i in range(len(y_pred))])\r\n",
        "print()\r\n",
        "print('Predicted labels',y_pred)"
      ],
      "execution_count": null,
      "outputs": [
        {
          "output_type": "stream",
          "text": [
            "\n",
            "Predicted labels [0 0 1 0 0 0 1 0 0 0 0 0 0 0 0 0 1 0 0 0 1 0 0 0 0 1 0 0 1 0 0 0 0 0 0 1 1\n",
            " 1 0 0 0 1 0 0 0 1 1 0 0 1 1 1 0 0 0 1 0 0 0 0 1 0 1 0 1 0 0 0 0 0 0 0 0 1\n",
            " 0 0 0 0 0 1 0 0 0 0 0 0 0 0 0 0 1 0 0 0 0 1 0 1 0 0 0 1 0 0 1 1 0 0 0 0 0\n",
            " 0 0 1 0 1 0 0 1 0 0 0 1 0 0 0 0 1 0 0 0 1 0 1 0 0 1 0 1 0]\n"
          ],
          "name": "stdout"
        }
      ]
    },
    {
      "cell_type": "code",
      "metadata": {
        "colab": {
          "base_uri": "https://localhost:8080/"
        },
        "id": "hkpjyoL_gVG8",
        "outputId": "e0ed46d1-3799-4f6e-f774-bc938808db98"
      },
      "source": [
        "y_test"
      ],
      "execution_count": null,
      "outputs": [
        {
          "output_type": "execute_result",
          "data": {
            "text/plain": [
              "array([0, 0, 1, 0, 0, 0, 1, 0, 0, 0, 0, 0, 0, 0, 0, 0, 1, 0, 0, 0, 1, 0,\n",
              "       1, 0, 0, 1, 0, 0, 1, 0, 0, 1, 1, 0, 0, 0, 1, 1, 0, 0, 0, 0, 0, 1,\n",
              "       0, 1, 1, 0, 0, 1, 1, 1, 0, 0, 1, 1, 0, 0, 1, 0, 1, 1, 1, 0, 1, 0,\n",
              "       0, 0, 0, 1, 0, 0, 0, 1, 0, 0, 0, 0, 0, 1, 0, 0, 0, 0, 1, 0, 0, 0,\n",
              "       0, 0, 1, 0, 0, 0, 0, 1, 0, 1, 0, 0, 0, 1, 0, 0, 1, 1, 0, 0, 0, 0,\n",
              "       0, 0, 0, 1, 0, 1, 0, 0, 1, 0, 0, 0, 1, 0, 0, 1, 0, 1, 0, 0, 0, 1,\n",
              "       0, 1, 0, 0, 1, 0, 1, 1])"
            ]
          },
          "metadata": {
            "tags": []
          },
          "execution_count": 85
        }
      ]
    },
    {
      "cell_type": "code",
      "metadata": {
        "colab": {
          "base_uri": "https://localhost:8080/"
        },
        "id": "s_gLaaY9WYvX",
        "outputId": "696368c3-3c80-4fe7-89a4-65550efccb1e"
      },
      "source": [
        "idx_misc = (y_test != y_pred)\r\n",
        "idx_misc"
      ],
      "execution_count": null,
      "outputs": [
        {
          "output_type": "execute_result",
          "data": {
            "text/plain": [
              "array([False, False, False, False, False, False, False, False, False,\n",
              "       False, False, False, False, False, False, False, False, False,\n",
              "       False, False, False, False,  True, False, False, False, False,\n",
              "       False, False, False, False,  True,  True, False, False,  True,\n",
              "       False, False, False, False, False,  True, False,  True, False,\n",
              "       False, False, False, False, False, False, False, False, False,\n",
              "        True, False, False, False,  True, False, False,  True, False,\n",
              "       False, False, False, False, False, False,  True, False, False,\n",
              "       False, False, False, False, False, False, False, False, False,\n",
              "       False, False, False,  True, False, False, False, False, False,\n",
              "       False, False, False, False, False, False, False, False, False,\n",
              "       False, False, False, False, False, False, False, False, False,\n",
              "       False, False, False, False, False, False, False, False, False,\n",
              "       False, False, False, False, False, False, False, False,  True,\n",
              "       False, False, False, False, False, False, False, False, False,\n",
              "       False, False, False, False,  True])"
            ]
          },
          "metadata": {
            "tags": []
          },
          "execution_count": 86
        }
      ]
    },
    {
      "cell_type": "code",
      "metadata": {
        "colab": {
          "base_uri": "https://localhost:8080/"
        },
        "id": "Dh4QfpFIWnGL",
        "outputId": "34707351-bfb4-470a-f86e-71922b585556"
      },
      "source": [
        "np.where(idx_misc)[0]"
      ],
      "execution_count": null,
      "outputs": [
        {
          "output_type": "execute_result",
          "data": {
            "text/plain": [
              "array([ 22,  31,  32,  35,  41,  43,  54,  58,  61,  69,  84, 125, 139])"
            ]
          },
          "metadata": {
            "tags": []
          },
          "execution_count": 87
        }
      ]
    },
    {
      "cell_type": "code",
      "metadata": {
        "colab": {
          "base_uri": "https://localhost:8080/"
        },
        "id": "1sfFyrEkXBCH",
        "outputId": "adf2aaa3-677a-4466-cf2e-b081a684c0dc"
      },
      "source": [
        "X_test[22,:]"
      ],
      "execution_count": null,
      "outputs": [
        {
          "output_type": "execute_result",
          "data": {
            "text/plain": [
              "array([0.44444444, 0.22222222, 0.22222222, 0.33333333, 0.11111111,\n",
              "       0.99994001, 0.22222222, 0.33333333, 0.        ])"
            ]
          },
          "metadata": {
            "tags": []
          },
          "execution_count": 88
        }
      ]
    },
    {
      "cell_type": "code",
      "metadata": {
        "id": "iwo5ecYeXEsM"
      },
      "source": [
        ""
      ],
      "execution_count": null,
      "outputs": []
    }
  ]
}