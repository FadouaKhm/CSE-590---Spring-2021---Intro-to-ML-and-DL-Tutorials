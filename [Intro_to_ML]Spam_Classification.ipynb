{
  "nbformat": 4,
  "nbformat_minor": 0,
  "metadata": {
    "kernelspec": {
      "display_name": "Python 3",
      "language": "python",
      "name": "python3"
    },
    "language_info": {
      "codemirror_mode": {
        "name": "ipython",
        "version": 3
      },
      "file_extension": ".py",
      "mimetype": "text/x-python",
      "name": "python",
      "nbconvert_exporter": "python",
      "pygments_lexer": "ipython3",
      "version": "3.6.5"
    },
    "colab": {
      "name": "[Intro to ML]Spam Classification.ipynb",
      "provenance": [],
      "include_colab_link": true
    }
  },
  "cells": [
    {
      "cell_type": "markdown",
      "metadata": {
        "id": "view-in-github",
        "colab_type": "text"
      },
      "source": [
        "<a href=\"https://colab.research.google.com/github/FadouaKhm/CSE590-Spring21-Intro-to-ML-DL/blob/main/%5BIntro_to_ML%5DSpam_Classification.ipynb\" target=\"_parent\"><img src=\"https://colab.research.google.com/assets/colab-badge.svg\" alt=\"Open In Colab\"/></a>"
      ]
    },
    {
      "cell_type": "markdown",
      "metadata": {
        "id": "qbLX6OvZx3v0"
      },
      "source": [
        "## Problem 2 - Classification"
      ]
    },
    {
      "cell_type": "markdown",
      "metadata": {
        "id": "KYoeeoVIx3v3"
      },
      "source": [
        "### Load Training and Testing Data"
      ]
    },
    {
      "cell_type": "code",
      "metadata": {
        "id": "f3fJWw-3x3v4"
      },
      "source": [
        "import pandas as pd\n",
        "import numpy as np"
      ],
      "execution_count": null,
      "outputs": []
    },
    {
      "cell_type": "code",
      "metadata": {
        "id": "Jcr7V2I5x3v4",
        "outputId": "2a8af44c-105e-4d9d-e013-11cd3cb11361"
      },
      "source": [
        "#Load training data\n",
        "train_data = pd.read_csv('datasets/classification/spam_train.csv')\n",
        "train_data.head()"
      ],
      "execution_count": null,
      "outputs": [
        {
          "output_type": "execute_result",
          "data": {
            "text/html": [
              "<div>\n",
              "<style scoped>\n",
              "    .dataframe tbody tr th:only-of-type {\n",
              "        vertical-align: middle;\n",
              "    }\n",
              "\n",
              "    .dataframe tbody tr th {\n",
              "        vertical-align: top;\n",
              "    }\n",
              "\n",
              "    .dataframe thead th {\n",
              "        text-align: right;\n",
              "    }\n",
              "</style>\n",
              "<table border=\"1\" class=\"dataframe\">\n",
              "  <thead>\n",
              "    <tr style=\"text-align: right;\">\n",
              "      <th></th>\n",
              "      <th>Unnamed: 0</th>\n",
              "      <th>word_freq_make</th>\n",
              "      <th>word_freq_address</th>\n",
              "      <th>word_freq_all</th>\n",
              "      <th>word_freq_3d</th>\n",
              "      <th>word_freq_our</th>\n",
              "      <th>word_freq_over</th>\n",
              "      <th>word_freq_remove</th>\n",
              "      <th>word_freq_internet</th>\n",
              "      <th>word_freq_order</th>\n",
              "      <th>...</th>\n",
              "      <th>char_freq_%3B</th>\n",
              "      <th>char_freq_%28</th>\n",
              "      <th>char_freq_%5B</th>\n",
              "      <th>char_freq_%21</th>\n",
              "      <th>char_freq_%24</th>\n",
              "      <th>char_freq_%23</th>\n",
              "      <th>capital_run_length_average</th>\n",
              "      <th>capital_run_length_longest</th>\n",
              "      <th>capital_run_length_total</th>\n",
              "      <th>class</th>\n",
              "    </tr>\n",
              "  </thead>\n",
              "  <tbody>\n",
              "    <tr>\n",
              "      <th>0</th>\n",
              "      <td>3009</td>\n",
              "      <td>0.07</td>\n",
              "      <td>0.0</td>\n",
              "      <td>0.07</td>\n",
              "      <td>0.0</td>\n",
              "      <td>0.00</td>\n",
              "      <td>0.00</td>\n",
              "      <td>0.00</td>\n",
              "      <td>0.46</td>\n",
              "      <td>0.69</td>\n",
              "      <td>...</td>\n",
              "      <td>0.142</td>\n",
              "      <td>0.175</td>\n",
              "      <td>0.032</td>\n",
              "      <td>0.000</td>\n",
              "      <td>0.021</td>\n",
              "      <td>0.0</td>\n",
              "      <td>3.007</td>\n",
              "      <td>60</td>\n",
              "      <td>791</td>\n",
              "      <td>0</td>\n",
              "    </tr>\n",
              "    <tr>\n",
              "      <th>1</th>\n",
              "      <td>798</td>\n",
              "      <td>0.00</td>\n",
              "      <td>0.0</td>\n",
              "      <td>0.74</td>\n",
              "      <td>0.0</td>\n",
              "      <td>1.85</td>\n",
              "      <td>0.37</td>\n",
              "      <td>0.37</td>\n",
              "      <td>0.00</td>\n",
              "      <td>0.00</td>\n",
              "      <td>...</td>\n",
              "      <td>0.000</td>\n",
              "      <td>0.264</td>\n",
              "      <td>0.000</td>\n",
              "      <td>0.000</td>\n",
              "      <td>0.000</td>\n",
              "      <td>0.0</td>\n",
              "      <td>2.492</td>\n",
              "      <td>12</td>\n",
              "      <td>172</td>\n",
              "      <td>1</td>\n",
              "    </tr>\n",
              "    <tr>\n",
              "      <th>2</th>\n",
              "      <td>4396</td>\n",
              "      <td>0.00</td>\n",
              "      <td>0.0</td>\n",
              "      <td>0.00</td>\n",
              "      <td>0.0</td>\n",
              "      <td>0.00</td>\n",
              "      <td>0.00</td>\n",
              "      <td>0.00</td>\n",
              "      <td>0.00</td>\n",
              "      <td>0.00</td>\n",
              "      <td>...</td>\n",
              "      <td>0.000</td>\n",
              "      <td>0.000</td>\n",
              "      <td>0.000</td>\n",
              "      <td>0.000</td>\n",
              "      <td>0.763</td>\n",
              "      <td>0.0</td>\n",
              "      <td>2.181</td>\n",
              "      <td>6</td>\n",
              "      <td>24</td>\n",
              "      <td>0</td>\n",
              "    </tr>\n",
              "    <tr>\n",
              "      <th>3</th>\n",
              "      <td>353</td>\n",
              "      <td>0.00</td>\n",
              "      <td>0.0</td>\n",
              "      <td>0.32</td>\n",
              "      <td>0.0</td>\n",
              "      <td>0.65</td>\n",
              "      <td>0.65</td>\n",
              "      <td>0.32</td>\n",
              "      <td>0.32</td>\n",
              "      <td>0.00</td>\n",
              "      <td>...</td>\n",
              "      <td>0.000</td>\n",
              "      <td>0.105</td>\n",
              "      <td>0.000</td>\n",
              "      <td>0.000</td>\n",
              "      <td>0.158</td>\n",
              "      <td>0.0</td>\n",
              "      <td>1.494</td>\n",
              "      <td>10</td>\n",
              "      <td>139</td>\n",
              "      <td>1</td>\n",
              "    </tr>\n",
              "    <tr>\n",
              "      <th>4</th>\n",
              "      <td>574</td>\n",
              "      <td>1.03</td>\n",
              "      <td>0.0</td>\n",
              "      <td>0.00</td>\n",
              "      <td>0.0</td>\n",
              "      <td>0.00</td>\n",
              "      <td>0.00</td>\n",
              "      <td>0.00</td>\n",
              "      <td>0.00</td>\n",
              "      <td>0.00</td>\n",
              "      <td>...</td>\n",
              "      <td>0.000</td>\n",
              "      <td>0.000</td>\n",
              "      <td>0.000</td>\n",
              "      <td>0.176</td>\n",
              "      <td>0.176</td>\n",
              "      <td>0.0</td>\n",
              "      <td>2.766</td>\n",
              "      <td>26</td>\n",
              "      <td>83</td>\n",
              "      <td>1</td>\n",
              "    </tr>\n",
              "  </tbody>\n",
              "</table>\n",
              "<p>5 rows × 59 columns</p>\n",
              "</div>"
            ],
            "text/plain": [
              "   Unnamed: 0  word_freq_make  word_freq_address  word_freq_all  word_freq_3d  \\\n",
              "0        3009            0.07                0.0           0.07           0.0   \n",
              "1         798            0.00                0.0           0.74           0.0   \n",
              "2        4396            0.00                0.0           0.00           0.0   \n",
              "3         353            0.00                0.0           0.32           0.0   \n",
              "4         574            1.03                0.0           0.00           0.0   \n",
              "\n",
              "   word_freq_our  word_freq_over  word_freq_remove  word_freq_internet  \\\n",
              "0           0.00            0.00              0.00                0.46   \n",
              "1           1.85            0.37              0.37                0.00   \n",
              "2           0.00            0.00              0.00                0.00   \n",
              "3           0.65            0.65              0.32                0.32   \n",
              "4           0.00            0.00              0.00                0.00   \n",
              "\n",
              "   word_freq_order  ...    char_freq_%3B  char_freq_%28  char_freq_%5B  \\\n",
              "0             0.69  ...            0.142          0.175          0.032   \n",
              "1             0.00  ...            0.000          0.264          0.000   \n",
              "2             0.00  ...            0.000          0.000          0.000   \n",
              "3             0.00  ...            0.000          0.105          0.000   \n",
              "4             0.00  ...            0.000          0.000          0.000   \n",
              "\n",
              "   char_freq_%21  char_freq_%24  char_freq_%23  capital_run_length_average  \\\n",
              "0          0.000          0.021            0.0                       3.007   \n",
              "1          0.000          0.000            0.0                       2.492   \n",
              "2          0.000          0.763            0.0                       2.181   \n",
              "3          0.000          0.158            0.0                       1.494   \n",
              "4          0.176          0.176            0.0                       2.766   \n",
              "\n",
              "   capital_run_length_longest  capital_run_length_total  class  \n",
              "0                          60                       791      0  \n",
              "1                          12                       172      1  \n",
              "2                           6                        24      0  \n",
              "3                          10                       139      1  \n",
              "4                          26                        83      1  \n",
              "\n",
              "[5 rows x 59 columns]"
            ]
          },
          "metadata": {
            "tags": []
          },
          "execution_count": 85
        }
      ]
    },
    {
      "cell_type": "code",
      "metadata": {
        "id": "pfkyfdoDx3v5",
        "outputId": "1343e89b-d754-415a-a180-e725911e3ed8"
      },
      "source": [
        "#Load testing data\n",
        "test_data = pd.read_csv('datasets/classification/spam_test.csv')\n",
        "test_data.head()"
      ],
      "execution_count": null,
      "outputs": [
        {
          "output_type": "execute_result",
          "data": {
            "text/html": [
              "<div>\n",
              "<style scoped>\n",
              "    .dataframe tbody tr th:only-of-type {\n",
              "        vertical-align: middle;\n",
              "    }\n",
              "\n",
              "    .dataframe tbody tr th {\n",
              "        vertical-align: top;\n",
              "    }\n",
              "\n",
              "    .dataframe thead th {\n",
              "        text-align: right;\n",
              "    }\n",
              "</style>\n",
              "<table border=\"1\" class=\"dataframe\">\n",
              "  <thead>\n",
              "    <tr style=\"text-align: right;\">\n",
              "      <th></th>\n",
              "      <th>Unnamed: 0</th>\n",
              "      <th>word_freq_make</th>\n",
              "      <th>word_freq_address</th>\n",
              "      <th>word_freq_all</th>\n",
              "      <th>word_freq_3d</th>\n",
              "      <th>word_freq_our</th>\n",
              "      <th>word_freq_over</th>\n",
              "      <th>word_freq_remove</th>\n",
              "      <th>word_freq_internet</th>\n",
              "      <th>word_freq_order</th>\n",
              "      <th>...</th>\n",
              "      <th>char_freq_%3B</th>\n",
              "      <th>char_freq_%28</th>\n",
              "      <th>char_freq_%5B</th>\n",
              "      <th>char_freq_%21</th>\n",
              "      <th>char_freq_%24</th>\n",
              "      <th>char_freq_%23</th>\n",
              "      <th>capital_run_length_average</th>\n",
              "      <th>capital_run_length_longest</th>\n",
              "      <th>capital_run_length_total</th>\n",
              "      <th>class</th>\n",
              "    </tr>\n",
              "  </thead>\n",
              "  <tbody>\n",
              "    <tr>\n",
              "      <th>0</th>\n",
              "      <td>4175</td>\n",
              "      <td>0.00</td>\n",
              "      <td>0.00</td>\n",
              "      <td>1.57</td>\n",
              "      <td>0.0</td>\n",
              "      <td>0.22</td>\n",
              "      <td>0.22</td>\n",
              "      <td>0.00</td>\n",
              "      <td>0.00</td>\n",
              "      <td>0.0</td>\n",
              "      <td>...</td>\n",
              "      <td>0.0</td>\n",
              "      <td>0.091</td>\n",
              "      <td>0.0</td>\n",
              "      <td>0.045</td>\n",
              "      <td>0.000</td>\n",
              "      <td>0.0</td>\n",
              "      <td>1.276</td>\n",
              "      <td>16</td>\n",
              "      <td>97</td>\n",
              "      <td>0</td>\n",
              "    </tr>\n",
              "    <tr>\n",
              "      <th>1</th>\n",
              "      <td>2228</td>\n",
              "      <td>0.00</td>\n",
              "      <td>0.00</td>\n",
              "      <td>0.00</td>\n",
              "      <td>0.0</td>\n",
              "      <td>0.00</td>\n",
              "      <td>0.00</td>\n",
              "      <td>0.00</td>\n",
              "      <td>0.00</td>\n",
              "      <td>0.0</td>\n",
              "      <td>...</td>\n",
              "      <td>0.0</td>\n",
              "      <td>0.000</td>\n",
              "      <td>0.0</td>\n",
              "      <td>0.000</td>\n",
              "      <td>0.000</td>\n",
              "      <td>0.0</td>\n",
              "      <td>1.913</td>\n",
              "      <td>6</td>\n",
              "      <td>44</td>\n",
              "      <td>0</td>\n",
              "    </tr>\n",
              "    <tr>\n",
              "      <th>2</th>\n",
              "      <td>1803</td>\n",
              "      <td>0.00</td>\n",
              "      <td>1.03</td>\n",
              "      <td>0.00</td>\n",
              "      <td>0.0</td>\n",
              "      <td>1.03</td>\n",
              "      <td>0.00</td>\n",
              "      <td>1.03</td>\n",
              "      <td>0.51</td>\n",
              "      <td>0.0</td>\n",
              "      <td>...</td>\n",
              "      <td>0.0</td>\n",
              "      <td>0.257</td>\n",
              "      <td>0.0</td>\n",
              "      <td>0.600</td>\n",
              "      <td>0.429</td>\n",
              "      <td>0.0</td>\n",
              "      <td>1.447</td>\n",
              "      <td>4</td>\n",
              "      <td>55</td>\n",
              "      <td>1</td>\n",
              "    </tr>\n",
              "    <tr>\n",
              "      <th>3</th>\n",
              "      <td>2077</td>\n",
              "      <td>2.77</td>\n",
              "      <td>0.00</td>\n",
              "      <td>0.00</td>\n",
              "      <td>0.0</td>\n",
              "      <td>0.00</td>\n",
              "      <td>0.00</td>\n",
              "      <td>0.00</td>\n",
              "      <td>0.00</td>\n",
              "      <td>0.0</td>\n",
              "      <td>...</td>\n",
              "      <td>0.0</td>\n",
              "      <td>0.000</td>\n",
              "      <td>0.0</td>\n",
              "      <td>0.213</td>\n",
              "      <td>0.000</td>\n",
              "      <td>0.0</td>\n",
              "      <td>1.750</td>\n",
              "      <td>6</td>\n",
              "      <td>49</td>\n",
              "      <td>0</td>\n",
              "    </tr>\n",
              "    <tr>\n",
              "      <th>4</th>\n",
              "      <td>4390</td>\n",
              "      <td>0.00</td>\n",
              "      <td>0.00</td>\n",
              "      <td>1.72</td>\n",
              "      <td>0.0</td>\n",
              "      <td>0.00</td>\n",
              "      <td>0.00</td>\n",
              "      <td>0.00</td>\n",
              "      <td>0.00</td>\n",
              "      <td>0.0</td>\n",
              "      <td>...</td>\n",
              "      <td>0.0</td>\n",
              "      <td>0.303</td>\n",
              "      <td>0.0</td>\n",
              "      <td>0.910</td>\n",
              "      <td>0.000</td>\n",
              "      <td>0.0</td>\n",
              "      <td>2.171</td>\n",
              "      <td>9</td>\n",
              "      <td>76</td>\n",
              "      <td>0</td>\n",
              "    </tr>\n",
              "  </tbody>\n",
              "</table>\n",
              "<p>5 rows × 59 columns</p>\n",
              "</div>"
            ],
            "text/plain": [
              "   Unnamed: 0  word_freq_make  word_freq_address  word_freq_all  word_freq_3d  \\\n",
              "0        4175            0.00               0.00           1.57           0.0   \n",
              "1        2228            0.00               0.00           0.00           0.0   \n",
              "2        1803            0.00               1.03           0.00           0.0   \n",
              "3        2077            2.77               0.00           0.00           0.0   \n",
              "4        4390            0.00               0.00           1.72           0.0   \n",
              "\n",
              "   word_freq_our  word_freq_over  word_freq_remove  word_freq_internet  \\\n",
              "0           0.22            0.22              0.00                0.00   \n",
              "1           0.00            0.00              0.00                0.00   \n",
              "2           1.03            0.00              1.03                0.51   \n",
              "3           0.00            0.00              0.00                0.00   \n",
              "4           0.00            0.00              0.00                0.00   \n",
              "\n",
              "   word_freq_order  ...    char_freq_%3B  char_freq_%28  char_freq_%5B  \\\n",
              "0              0.0  ...              0.0          0.091            0.0   \n",
              "1              0.0  ...              0.0          0.000            0.0   \n",
              "2              0.0  ...              0.0          0.257            0.0   \n",
              "3              0.0  ...              0.0          0.000            0.0   \n",
              "4              0.0  ...              0.0          0.303            0.0   \n",
              "\n",
              "   char_freq_%21  char_freq_%24  char_freq_%23  capital_run_length_average  \\\n",
              "0          0.045          0.000            0.0                       1.276   \n",
              "1          0.000          0.000            0.0                       1.913   \n",
              "2          0.600          0.429            0.0                       1.447   \n",
              "3          0.213          0.000            0.0                       1.750   \n",
              "4          0.910          0.000            0.0                       2.171   \n",
              "\n",
              "   capital_run_length_longest  capital_run_length_total  class  \n",
              "0                          16                        97      0  \n",
              "1                           6                        44      0  \n",
              "2                           4                        55      1  \n",
              "3                           6                        49      0  \n",
              "4                           9                        76      0  \n",
              "\n",
              "[5 rows x 59 columns]"
            ]
          },
          "metadata": {
            "tags": []
          },
          "execution_count": 86
        }
      ]
    },
    {
      "cell_type": "code",
      "metadata": {
        "id": "Jyd6VR2nx3v6",
        "outputId": "6b6cbef7-a270-465a-f518-c587c1c396d2"
      },
      "source": [
        "print('Training data shape =',train_data.shape,'\\n')\n",
        "print('Testing data shape =',test_data.shape)"
      ],
      "execution_count": null,
      "outputs": [
        {
          "output_type": "stream",
          "text": [
            "Training data shape = (3450, 59) \n",
            "\n",
            "Testing data shape = (1151, 59)\n"
          ],
          "name": "stdout"
        }
      ]
    },
    {
      "cell_type": "code",
      "metadata": {
        "id": "FLRu8Bvex3v6"
      },
      "source": [
        "# Separate features and labels and remove row indices\n",
        "#Traing data\n",
        "X_train = train_data.iloc[:,1:-1].values\n",
        "y_train = train_data.iloc[:,-1].values\n",
        "\n",
        "#Testing data\n",
        "X_test = test_data.iloc[:, 1:-1].values\n",
        "y_test = test_data.iloc[:,-1].values"
      ],
      "execution_count": null,
      "outputs": []
    },
    {
      "cell_type": "markdown",
      "metadata": {
        "id": "sMlFvFvPx3v7"
      },
      "source": [
        "### Explore the data Data"
      ]
    },
    {
      "cell_type": "code",
      "metadata": {
        "id": "pRjU_8xJx3v9",
        "outputId": "f0fde570-2376-487f-e964-0f152400f627"
      },
      "source": [
        "X_train"
      ],
      "execution_count": null,
      "outputs": [
        {
          "output_type": "execute_result",
          "data": {
            "text/plain": [
              "array([[7.000e-02, 0.000e+00, 7.000e-02, ..., 3.007e+00, 6.000e+01,\n",
              "        7.910e+02],\n",
              "       [0.000e+00, 0.000e+00, 7.400e-01, ..., 2.492e+00, 1.200e+01,\n",
              "        1.720e+02],\n",
              "       [0.000e+00, 0.000e+00, 0.000e+00, ..., 2.181e+00, 6.000e+00,\n",
              "        2.400e+01],\n",
              "       ...,\n",
              "       [0.000e+00, 7.100e-01, 3.500e-01, ..., 3.768e+00, 6.100e+01,\n",
              "        2.600e+02],\n",
              "       [5.400e-01, 1.300e-01, 3.800e-01, ..., 6.789e+00, 1.950e+02,\n",
              "        3.327e+03],\n",
              "       [0.000e+00, 0.000e+00, 2.120e+00, ..., 1.238e+00, 4.000e+00,\n",
              "        2.600e+01]])"
            ]
          },
          "metadata": {
            "tags": []
          },
          "execution_count": 89
        }
      ]
    },
    {
      "cell_type": "code",
      "metadata": {
        "id": "5Q68pLSSx3v9",
        "outputId": "335702fb-cbb3-4ab3-debe-18e0a8755358"
      },
      "source": [
        "y_train"
      ],
      "execution_count": null,
      "outputs": [
        {
          "output_type": "execute_result",
          "data": {
            "text/plain": [
              "array([0, 1, 0, ..., 1, 1, 0], dtype=int64)"
            ]
          },
          "metadata": {
            "tags": []
          },
          "execution_count": 8
        }
      ]
    },
    {
      "cell_type": "code",
      "metadata": {
        "id": "UmD-hmwHx3v-",
        "outputId": "64e882d0-f767-4bf6-a273-26cf7a6a8514"
      },
      "source": [
        "X_train.shape, y_train.shape"
      ],
      "execution_count": null,
      "outputs": [
        {
          "output_type": "execute_result",
          "data": {
            "text/plain": [
              "((3450, 57), (3450,))"
            ]
          },
          "metadata": {
            "tags": []
          },
          "execution_count": 90
        }
      ]
    },
    {
      "cell_type": "code",
      "metadata": {
        "id": "tY-PIa00x3v-",
        "outputId": "3941b312-ea41-4ee6-823c-b04bdc77da6d"
      },
      "source": [
        "y_train.shape"
      ],
      "execution_count": null,
      "outputs": [
        {
          "output_type": "execute_result",
          "data": {
            "text/plain": [
              "(3450,)"
            ]
          },
          "metadata": {
            "tags": []
          },
          "execution_count": 91
        }
      ]
    },
    {
      "cell_type": "code",
      "metadata": {
        "id": "ZnMISv4Lx3v_",
        "outputId": "3ed6d9a4-b375-4e1e-90b9-5dea87c8c831"
      },
      "source": [
        "X_test"
      ],
      "execution_count": null,
      "outputs": [
        {
          "output_type": "execute_result",
          "data": {
            "text/plain": [
              "array([[0.000e+00, 0.000e+00, 1.570e+00, ..., 1.276e+00, 1.600e+01,\n",
              "        9.700e+01],\n",
              "       [0.000e+00, 0.000e+00, 0.000e+00, ..., 1.913e+00, 6.000e+00,\n",
              "        4.400e+01],\n",
              "       [0.000e+00, 1.030e+00, 0.000e+00, ..., 1.447e+00, 4.000e+00,\n",
              "        5.500e+01],\n",
              "       ...,\n",
              "       [0.000e+00, 8.000e-01, 0.000e+00, ..., 3.115e+00, 1.900e+01,\n",
              "        8.100e+01],\n",
              "       [3.400e-01, 1.700e-01, 1.700e-01, ..., 4.792e+00, 3.800e+01,\n",
              "        5.080e+02],\n",
              "       [0.000e+00, 0.000e+00, 0.000e+00, ..., 3.737e+00, 7.500e+01,\n",
              "        2.280e+02]])"
            ]
          },
          "metadata": {
            "tags": []
          },
          "execution_count": 92
        }
      ]
    },
    {
      "cell_type": "code",
      "metadata": {
        "id": "2klDavA9x3v_",
        "outputId": "0990392e-57a3-4970-b1f9-edc9f0c5550a"
      },
      "source": [
        "y_test"
      ],
      "execution_count": null,
      "outputs": [
        {
          "output_type": "execute_result",
          "data": {
            "text/plain": [
              "array([0, 0, 1, ..., 1, 1, 1], dtype=int64)"
            ]
          },
          "metadata": {
            "tags": []
          },
          "execution_count": 93
        }
      ]
    },
    {
      "cell_type": "code",
      "metadata": {
        "id": "6whyVNDPx3v_",
        "outputId": "bf18df97-4345-47ae-ed07-204e5a34004f"
      },
      "source": [
        "X_test.shape, y_test.shape"
      ],
      "execution_count": null,
      "outputs": [
        {
          "output_type": "execute_result",
          "data": {
            "text/plain": [
              "((1625, 11), (1625,))"
            ]
          },
          "metadata": {
            "tags": []
          },
          "execution_count": 22
        }
      ]
    },
    {
      "cell_type": "markdown",
      "metadata": {
        "id": "QmGiVyJ5x3wA"
      },
      "source": [
        "# a- KNN Binary Classifier"
      ]
    },
    {
      "cell_type": "code",
      "metadata": {
        "id": "avs9dFhYx3wA",
        "outputId": "ac8fb5a0-ec39-4aa9-e3b9-063b7b83bf6b"
      },
      "source": [
        "## Build and fit KNN Classifier\n",
        "from sklearn.neighbors import KNeighborsClassifier\n",
        "knn = KNeighborsClassifier(n_neighbors=10)\n",
        "knn.fit(X_train,y_train)"
      ],
      "execution_count": null,
      "outputs": [
        {
          "output_type": "execute_result",
          "data": {
            "text/plain": [
              "KNeighborsClassifier(algorithm='auto', leaf_size=30, metric='minkowski',\n",
              "           metric_params=None, n_jobs=1, n_neighbors=10, p=2,\n",
              "           weights='uniform')"
            ]
          },
          "metadata": {
            "tags": []
          },
          "execution_count": 94
        }
      ]
    },
    {
      "cell_type": "code",
      "metadata": {
        "id": "pokRNCRix3wB",
        "outputId": "080d9f28-71bb-46cb-a1e4-856eedb0f1b6"
      },
      "source": [
        "## Compute score (R^2) on both training and testing sets\n",
        "print('Training score: ',knn.score(X_train,y_train))\n",
        "print('Testing score: ', knn.score(X_test,y_test))"
      ],
      "execution_count": null,
      "outputs": [
        {
          "output_type": "stream",
          "text": [
            "Training score:  0.828695652173913\n",
            "Testing score:  0.7706342311033884\n"
          ],
          "name": "stdout"
        }
      ]
    },
    {
      "cell_type": "code",
      "metadata": {
        "id": "DKJPYNU_x3wB"
      },
      "source": [
        "## Track the evolution of performances for different K\n",
        "def evaluate_knn(range_K, X_train,y_train, X_test,y_test):\n",
        "    train_score = []\n",
        "    test_score = []\n",
        "    for k in range(1,range_K):\n",
        "        knn = KNeighborsClassifier(n_neighbors=k)\n",
        "        knn.fit(X_train,y_train)\n",
        "        #R^2\n",
        "        train_score.append(knn.score(X_train,y_train))\n",
        "        test_score.append(knn.score(X_test,y_test))\n",
        "    return train_score, test_score"
      ],
      "execution_count": null,
      "outputs": []
    },
    {
      "cell_type": "code",
      "metadata": {
        "id": "I8qn7BBVx3wB"
      },
      "source": [
        "# Evaluate for different Ks\n",
        "range_K = 30\n",
        "train_score, test_score= evaluate_knn(range_K, X_train,y_train, X_test,y_test)"
      ],
      "execution_count": null,
      "outputs": []
    },
    {
      "cell_type": "code",
      "metadata": {
        "id": "S6TefzEPx3wC",
        "outputId": "dbe99f45-fffd-4b82-a121-c261a4a055ef"
      },
      "source": [
        "# Plot accuracy evolution\n",
        "import matplotlib.pyplot as plt\n",
        "plt.figure(figsize=(12,5))\n",
        "plt.plot(range(1, range_K), train_score,'<-', label='Training accuracy')\n",
        "plt.plot(range(1, range_K), test_score,'*-', label='Testing accuracy')\n",
        "plt.title('KNN - Training and testing scores')\n",
        "plt.xlabel('Number of neighbors, K')\n",
        "plt.ylabel('Accuracy')\n",
        "plt.grid()\n",
        "plt.legend()\n",
        "plt.show()"
      ],
      "execution_count": null,
      "outputs": [
        {
          "output_type": "display_data",
          "data": {
            "image/png": "[encoded data removed]",
            "text/plain": [
              "<Figure size 864x360 with 1 Axes>"
            ]
          },
          "metadata": {
            "tags": []
          }
        }
      ]
    },
    {
      "cell_type": "markdown",
      "metadata": {
        "id": "WCQWsM_Lx3wD"
      },
      "source": [
        "### Comments:\n",
        "It can be noted that for K = 1, the model fits perfectly the training data by scoring 100%\n",
        "accuracy. It was also able to generalize to the test data by scoring the best accuracy around 80%.\n",
        "However, there is a risk that the model is overfitting the data for K=1.\n",
        "As the value K of neighbours increases, the accuracy on the training set decreases relatively."
      ]
    },
    {
      "cell_type": "markdown",
      "metadata": {
        "id": "8ID9_l9px3wD"
      },
      "source": [
        "# b- Logistic Regression classifier"
      ]
    },
    {
      "cell_type": "code",
      "metadata": {
        "id": "8bequXSYx3wD",
        "outputId": "8ef87dc8-8227-4962-c2b6-316734c65408"
      },
      "source": [
        "#Build and fit a logistic regression model\n",
        "from sklearn.linear_model import LogisticRegression\n",
        "LR = LogisticRegression()\n",
        "LR.fit(X_train,y_train)"
      ],
      "execution_count": null,
      "outputs": [
        {
          "output_type": "execute_result",
          "data": {
            "text/plain": [
              "LogisticRegression(C=1.0, class_weight=None, dual=False, fit_intercept=True,\n",
              "          intercept_scaling=1, max_iter=100, multi_class='ovr', n_jobs=1,\n",
              "          penalty='l2', random_state=None, solver='liblinear', tol=0.0001,\n",
              "          verbose=0, warm_start=False)"
            ]
          },
          "metadata": {
            "tags": []
          },
          "execution_count": 98
        }
      ]
    },
    {
      "cell_type": "code",
      "metadata": {
        "id": "eDJAOh-xx3wE"
      },
      "source": [
        "## Track the evolution of performances for different C\n",
        "def evaluate_LR(range_C, X_train,y_train, X_test,y_test):\n",
        "    train_score = []\n",
        "    test_score = []\n",
        "    for c in range_C:\n",
        "        LR = LogisticRegression( C = c)\n",
        "        LR.fit(X_train,y_train)\n",
        "        #Accuracy\n",
        "        train_score.append(LR.score(X_train,y_train))\n",
        "        test_score.append(LR.score(X_test,y_test))\n",
        "    return train_score, test_score"
      ],
      "execution_count": null,
      "outputs": []
    },
    {
      "cell_type": "code",
      "metadata": {
        "id": "4mHXyfl8x3wE"
      },
      "source": [
        "# Evaluate for different Cs\n",
        "range_C = np.arange(0.001, 5, 0.5)\n",
        "train_score, test_score= evaluate_LR(range_C, X_train,y_train, X_test,y_test)"
      ],
      "execution_count": null,
      "outputs": []
    },
    {
      "cell_type": "code",
      "metadata": {
        "id": "rLjgh1Xox3wE",
        "outputId": "6ceea50d-2402-4061-da41-5acfd43635ef"
      },
      "source": [
        "# Plot accuracy evolution\n",
        "import matplotlib.pyplot as plt\n",
        "plt.figure(figsize=(15,5))\n",
        "plt.plot(range(1, len(range_C)+1), train_score,'<-', label='Training accuracy')\n",
        "plt.plot(range(1, len(range_C)+1), test_score,'*-', label='Testing accuracy')\n",
        "plt.title('Logistic Regression - Training and testing scores')\n",
        "plt.xticks([])\n",
        "plt.xticks(range(1, len(range_C)+1),range_C.astype('float32'))\n",
        "plt.xlabel('C')\n",
        "plt.ylabel('Accuracy')\n",
        "plt.grid()\n",
        "plt.legend()\n",
        "plt.show()"
      ],
      "execution_count": null,
      "outputs": [
        {
          "output_type": "display_data",
          "data": {
            "image/png": "[encoded data removed]",
            "text/plain": [
              "<Figure size 1080x360 with 1 Axes>"
            ]
          },
          "metadata": {
            "tags": []
          }
        }
      ]
    },
    {
      "cell_type": "markdown",
      "metadata": {
        "id": "c8R3tLkqx3wF"
      },
      "source": [
        "### Comments:\n",
        "- For low C values, the regularization is strong, ==> low accuracies on both the training and testing sets. \n",
        "- For C=0.001, the model scores less than 89% on both the train set and the test set. \n",
        "\n",
        "- As C increases (the regularization decreases), the performance of the model increases. The accuracy on the train set keeps on increasing slowly with C, while the performance on the test set reaches its maximum for C between 2 and 3  then stays almost constant. \n",
        "- The optimal C value for the logistic regression classifier on this dataset can be between 2 and 3 where the model reaches 92.4% on the test set and around 93.6% on the train set."
      ]
    },
    {
      "cell_type": "markdown",
      "metadata": {
        "id": "NBSqQtgOx3wF"
      },
      "source": [
        "# c- SVM"
      ]
    },
    {
      "cell_type": "code",
      "metadata": {
        "id": "JkfPrBK5x3wG",
        "outputId": "11e2babf-d116-4538-8268-cfd1f3a88ce5"
      },
      "source": [
        "# Build and train SVM model\n",
        "from sklearn import svm\n",
        "SVM = svm.SVC()\n",
        "SVM.fit(X_train,y_train)"
      ],
      "execution_count": null,
      "outputs": [
        {
          "output_type": "execute_result",
          "data": {
            "text/plain": [
              "SVC(C=1.0, cache_size=200, class_weight=None, coef0=0.0,\n",
              "  decision_function_shape='ovr', degree=3, gamma='auto', kernel='rbf',\n",
              "  max_iter=-1, probability=False, random_state=None, shrinking=True,\n",
              "  tol=0.001, verbose=False)"
            ]
          },
          "metadata": {
            "tags": []
          },
          "execution_count": 102
        }
      ]
    },
    {
      "cell_type": "code",
      "metadata": {
        "id": "5RV-i94lx3wG"
      },
      "source": [
        "## Track the evolution of performances for different C\n",
        "def evaluate_SVM(range_C, X_train,y_train, X_test,y_test):\n",
        "    train_score = []\n",
        "    test_score = []\n",
        "    for c in range_C:\n",
        "        SVM = svm.SVC( C =c)\n",
        "        SVM.fit(X_train,y_train)\n",
        "        #Accuracy\n",
        "        train_score.append(SVM.score(X_train,y_train))\n",
        "        test_score.append(SVM.score(X_test,y_test))\n",
        "    return train_score, test_score"
      ],
      "execution_count": null,
      "outputs": []
    },
    {
      "cell_type": "code",
      "metadata": {
        "id": "Fnzyo375x3wG"
      },
      "source": [
        "# Evaluate for different Cs\n",
        "range_C = np.arange(0.001, 6, 0.5)\n",
        "train_score, test_score= evaluate_SVM(range_C, X_train,y_train, X_test,y_test)"
      ],
      "execution_count": null,
      "outputs": []
    },
    {
      "cell_type": "code",
      "metadata": {
        "id": "f4xkpnU4x3wG",
        "outputId": "f34e8ecd-6560-4a9e-ddaa-6087c0d2b350"
      },
      "source": [
        "# Plot accuracy evolution\n",
        "import matplotlib.pyplot as plt\n",
        "plt.figure(figsize=(15,5))\n",
        "plt.plot(range(1, len(range_C)+1), train_score,'<-', label='Training accuracy')\n",
        "plt.plot(range(1, len(range_C)+1), test_score,'*-', label='Testing accuracy')\n",
        "plt.title('SVM - Training and testing scores')\n",
        "plt.xticks([])\n",
        "plt.xticks(range(1, len(range_C)+1),range_C.astype('float32'))\n",
        "plt.xlabel('C')\n",
        "plt.ylabel('Accuracy')\n",
        "plt.grid()\n",
        "plt.legend()\n",
        "plt.show()"
      ],
      "execution_count": null,
      "outputs": [
        {
          "output_type": "display_data",
          "data": {
            "image/png": "[encoded data removed]",
            "text/plain": [
              "<Figure size 1080x360 with 1 Axes>"
            ]
          },
          "metadata": {
            "tags": []
          }
        }
      ]
    },
    {
      "cell_type": "markdown",
      "metadata": {
        "id": "ihSiwUDDx3wH"
      },
      "source": [
        "### Comments: \n",
        "- For low C values (strong regularization), the model reaches low accuracies on both the training and testing sets. For example, for C = 0.001, the model scores less than 65% on both the training and testing. Therefore, the model is underfitting the dataset. \n",
        "\n",
        "- As C increases (the regularization decreases), the performance of the model increases. The accuracy on the train set keeps on increasing with C, while the performance on the test set reaches its maximum for C=2.5 then stays almost constant. \n",
        "\n",
        "- There is a risk of overfitting for high C values (weak regularization).\n"
      ]
    },
    {
      "cell_type": "code",
      "metadata": {
        "id": "5JGXjXHCx3wH"
      },
      "source": [
        ""
      ],
      "execution_count": null,
      "outputs": []
    }
  ]
}