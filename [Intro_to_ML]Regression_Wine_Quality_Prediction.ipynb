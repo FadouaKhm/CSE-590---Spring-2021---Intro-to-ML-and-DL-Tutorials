{
  "nbformat": 4,
  "nbformat_minor": 0,
  "metadata": {
    "kernelspec": {
      "display_name": "Python 3",
      "language": "python",
      "name": "python3"
    },
    "language_info": {
      "codemirror_mode": {
        "name": "ipython",
        "version": 3
      },
      "file_extension": ".py",
      "mimetype": "text/x-python",
      "name": "python",
      "nbconvert_exporter": "python",
      "pygments_lexer": "ipython3",
      "version": "3.6.8"
    },
    "colab": {
      "name": "[Intro to ML]Regression-Wine Quality Prediction.ipynb",
      "provenance": [],
      "include_colab_link": true
    }
  },
  "cells": [
    {
      "cell_type": "markdown",
      "metadata": {
        "id": "view-in-github",
        "colab_type": "text"
      },
      "source": [
        "<a href=\"https://colab.research.google.com/github/FadouaKhm/CSE-590---Spring-2021---Intro-to-ML-and-DL-Tutorials/blob/main/%5BIntro_to_ML%5DRegression_Wine_Quality_Prediction.ipynb\" target=\"_parent\"><img src=\"https://colab.research.google.com/assets/colab-badge.svg\" alt=\"Open In Colab\"/></a>"
      ]
    },
    {
      "cell_type": "markdown",
      "metadata": {
        "id": "D3MGXgydXRB6"
      },
      "source": [
        "# Problem 1 (Regression)"
      ]
    },
    {
      "cell_type": "markdown",
      "metadata": {
        "id": "7pximGg6XRB9"
      },
      "source": [
        "### Load Training and Testing Data"
      ]
    },
    {
      "cell_type": "code",
      "metadata": {
        "id": "iMZvsbTbXRB-",
        "outputId": "184c78b2-d93d-4c80-c52a-9cda72c705a7"
      },
      "source": [
        "import pandas as pd\n",
        "import numpy as np\n",
        "train_data = pd.read_csv('datasets/regression/wine_train.csv')\n",
        "train_data.head()"
      ],
      "execution_count": null,
      "outputs": [
        {
          "output_type": "execute_result",
          "data": {
            "text/html": [
              "<div>\n",
              "<style scoped>\n",
              "    .dataframe tbody tr th:only-of-type {\n",
              "        vertical-align: middle;\n",
              "    }\n",
              "\n",
              "    .dataframe tbody tr th {\n",
              "        vertical-align: top;\n",
              "    }\n",
              "\n",
              "    .dataframe thead th {\n",
              "        text-align: right;\n",
              "    }\n",
              "</style>\n",
              "<table border=\"1\" class=\"dataframe\">\n",
              "  <thead>\n",
              "    <tr style=\"text-align: right;\">\n",
              "      <th></th>\n",
              "      <th>Unnamed: 0</th>\n",
              "      <th>fixed.acidity</th>\n",
              "      <th>volatile.acidity</th>\n",
              "      <th>citric.acid</th>\n",
              "      <th>residual.sugar</th>\n",
              "      <th>chlorides</th>\n",
              "      <th>free.sulfur.dioxide</th>\n",
              "      <th>total.sulfur.dioxide</th>\n",
              "      <th>density</th>\n",
              "      <th>pH</th>\n",
              "      <th>sulphates</th>\n",
              "      <th>alcohol</th>\n",
              "      <th>quality</th>\n",
              "    </tr>\n",
              "  </thead>\n",
              "  <tbody>\n",
              "    <tr>\n",
              "      <th>0</th>\n",
              "      <td>2288</td>\n",
              "      <td>6.7</td>\n",
              "      <td>0.17</td>\n",
              "      <td>0.37</td>\n",
              "      <td>2.00</td>\n",
              "      <td>0.039</td>\n",
              "      <td>34.0</td>\n",
              "      <td>125.0</td>\n",
              "      <td>0.99220</td>\n",
              "      <td>3.26</td>\n",
              "      <td>0.60</td>\n",
              "      <td>10.8</td>\n",
              "      <td>7</td>\n",
              "    </tr>\n",
              "    <tr>\n",
              "      <th>1</th>\n",
              "      <td>1136</td>\n",
              "      <td>10.4</td>\n",
              "      <td>0.52</td>\n",
              "      <td>0.45</td>\n",
              "      <td>2.00</td>\n",
              "      <td>0.080</td>\n",
              "      <td>6.0</td>\n",
              "      <td>13.0</td>\n",
              "      <td>0.99774</td>\n",
              "      <td>3.22</td>\n",
              "      <td>0.76</td>\n",
              "      <td>11.4</td>\n",
              "      <td>6</td>\n",
              "    </tr>\n",
              "    <tr>\n",
              "      <th>2</th>\n",
              "      <td>4883</td>\n",
              "      <td>8.0</td>\n",
              "      <td>0.34</td>\n",
              "      <td>0.25</td>\n",
              "      <td>6.40</td>\n",
              "      <td>0.035</td>\n",
              "      <td>38.0</td>\n",
              "      <td>103.0</td>\n",
              "      <td>0.99148</td>\n",
              "      <td>2.91</td>\n",
              "      <td>0.23</td>\n",
              "      <td>12.2</td>\n",
              "      <td>6</td>\n",
              "    </tr>\n",
              "    <tr>\n",
              "      <th>3</th>\n",
              "      <td>3166</td>\n",
              "      <td>7.5</td>\n",
              "      <td>0.19</td>\n",
              "      <td>0.49</td>\n",
              "      <td>1.80</td>\n",
              "      <td>0.055</td>\n",
              "      <td>19.0</td>\n",
              "      <td>110.0</td>\n",
              "      <td>0.99460</td>\n",
              "      <td>3.33</td>\n",
              "      <td>0.44</td>\n",
              "      <td>9.9</td>\n",
              "      <td>5</td>\n",
              "    </tr>\n",
              "    <tr>\n",
              "      <th>4</th>\n",
              "      <td>2230</td>\n",
              "      <td>7.0</td>\n",
              "      <td>0.23</td>\n",
              "      <td>0.42</td>\n",
              "      <td>18.05</td>\n",
              "      <td>0.050</td>\n",
              "      <td>35.0</td>\n",
              "      <td>144.0</td>\n",
              "      <td>0.99990</td>\n",
              "      <td>3.22</td>\n",
              "      <td>0.42</td>\n",
              "      <td>8.8</td>\n",
              "      <td>5</td>\n",
              "    </tr>\n",
              "  </tbody>\n",
              "</table>\n",
              "</div>"
            ],
            "text/plain": [
              "   Unnamed: 0  fixed.acidity  volatile.acidity  citric.acid  residual.sugar  \\\n",
              "0        2288            6.7              0.17         0.37            2.00   \n",
              "1        1136           10.4              0.52         0.45            2.00   \n",
              "2        4883            8.0              0.34         0.25            6.40   \n",
              "3        3166            7.5              0.19         0.49            1.80   \n",
              "4        2230            7.0              0.23         0.42           18.05   \n",
              "\n",
              "   chlorides  free.sulfur.dioxide  total.sulfur.dioxide  density    pH  \\\n",
              "0      0.039                 34.0                 125.0  0.99220  3.26   \n",
              "1      0.080                  6.0                  13.0  0.99774  3.22   \n",
              "2      0.035                 38.0                 103.0  0.99148  2.91   \n",
              "3      0.055                 19.0                 110.0  0.99460  3.33   \n",
              "4      0.050                 35.0                 144.0  0.99990  3.22   \n",
              "\n",
              "   sulphates  alcohol  quality  \n",
              "0       0.60     10.8        7  \n",
              "1       0.76     11.4        6  \n",
              "2       0.23     12.2        6  \n",
              "3       0.44      9.9        5  \n",
              "4       0.42      8.8        5  "
            ]
          },
          "metadata": {
            "tags": []
          },
          "execution_count": 1
        }
      ]
    },
    {
      "cell_type": "code",
      "metadata": {
        "id": "dakB6X1nXRB_",
        "outputId": "51e94058-39d0-41b2-8809-717c143f5a2c"
      },
      "source": [
        "test_data = pd.read_csv('datasets/regression/wine_test.csv')\n",
        "test_data.head()"
      ],
      "execution_count": null,
      "outputs": [
        {
          "output_type": "execute_result",
          "data": {
            "text/html": [
              "<div>\n",
              "<style scoped>\n",
              "    .dataframe tbody tr th:only-of-type {\n",
              "        vertical-align: middle;\n",
              "    }\n",
              "\n",
              "    .dataframe tbody tr th {\n",
              "        vertical-align: top;\n",
              "    }\n",
              "\n",
              "    .dataframe thead th {\n",
              "        text-align: right;\n",
              "    }\n",
              "</style>\n",
              "<table border=\"1\" class=\"dataframe\">\n",
              "  <thead>\n",
              "    <tr style=\"text-align: right;\">\n",
              "      <th></th>\n",
              "      <th>Unnamed: 0</th>\n",
              "      <th>fixed.acidity</th>\n",
              "      <th>volatile.acidity</th>\n",
              "      <th>citric.acid</th>\n",
              "      <th>residual.sugar</th>\n",
              "      <th>chlorides</th>\n",
              "      <th>free.sulfur.dioxide</th>\n",
              "      <th>total.sulfur.dioxide</th>\n",
              "      <th>density</th>\n",
              "      <th>pH</th>\n",
              "      <th>sulphates</th>\n",
              "      <th>alcohol</th>\n",
              "      <th>quality</th>\n",
              "    </tr>\n",
              "  </thead>\n",
              "  <tbody>\n",
              "    <tr>\n",
              "      <th>0</th>\n",
              "      <td>2605</td>\n",
              "      <td>5.8</td>\n",
              "      <td>0.36</td>\n",
              "      <td>0.26</td>\n",
              "      <td>3.3</td>\n",
              "      <td>0.038</td>\n",
              "      <td>40.0</td>\n",
              "      <td>153.0</td>\n",
              "      <td>0.99110</td>\n",
              "      <td>3.34</td>\n",
              "      <td>0.55</td>\n",
              "      <td>11.3</td>\n",
              "      <td>6</td>\n",
              "    </tr>\n",
              "    <tr>\n",
              "      <th>1</th>\n",
              "      <td>536</td>\n",
              "      <td>9.9</td>\n",
              "      <td>0.63</td>\n",
              "      <td>0.24</td>\n",
              "      <td>2.4</td>\n",
              "      <td>0.077</td>\n",
              "      <td>6.0</td>\n",
              "      <td>33.0</td>\n",
              "      <td>0.99740</td>\n",
              "      <td>3.09</td>\n",
              "      <td>0.57</td>\n",
              "      <td>9.4</td>\n",
              "      <td>5</td>\n",
              "    </tr>\n",
              "    <tr>\n",
              "      <th>2</th>\n",
              "      <td>534</td>\n",
              "      <td>10.0</td>\n",
              "      <td>0.48</td>\n",
              "      <td>0.24</td>\n",
              "      <td>2.7</td>\n",
              "      <td>0.102</td>\n",
              "      <td>13.0</td>\n",
              "      <td>32.0</td>\n",
              "      <td>1.00000</td>\n",
              "      <td>3.28</td>\n",
              "      <td>0.56</td>\n",
              "      <td>10.0</td>\n",
              "      <td>6</td>\n",
              "    </tr>\n",
              "    <tr>\n",
              "      <th>3</th>\n",
              "      <td>813</td>\n",
              "      <td>6.9</td>\n",
              "      <td>0.39</td>\n",
              "      <td>0.24</td>\n",
              "      <td>2.1</td>\n",
              "      <td>0.102</td>\n",
              "      <td>4.0</td>\n",
              "      <td>7.0</td>\n",
              "      <td>0.99462</td>\n",
              "      <td>3.44</td>\n",
              "      <td>0.58</td>\n",
              "      <td>11.4</td>\n",
              "      <td>4</td>\n",
              "    </tr>\n",
              "    <tr>\n",
              "      <th>4</th>\n",
              "      <td>219</td>\n",
              "      <td>7.8</td>\n",
              "      <td>0.53</td>\n",
              "      <td>0.33</td>\n",
              "      <td>2.4</td>\n",
              "      <td>0.080</td>\n",
              "      <td>24.0</td>\n",
              "      <td>144.0</td>\n",
              "      <td>0.99655</td>\n",
              "      <td>3.30</td>\n",
              "      <td>0.60</td>\n",
              "      <td>9.5</td>\n",
              "      <td>5</td>\n",
              "    </tr>\n",
              "  </tbody>\n",
              "</table>\n",
              "</div>"
            ],
            "text/plain": [
              "   Unnamed: 0  fixed.acidity  volatile.acidity  citric.acid  residual.sugar  \\\n",
              "0        2605            5.8              0.36         0.26             3.3   \n",
              "1         536            9.9              0.63         0.24             2.4   \n",
              "2         534           10.0              0.48         0.24             2.7   \n",
              "3         813            6.9              0.39         0.24             2.1   \n",
              "4         219            7.8              0.53         0.33             2.4   \n",
              "\n",
              "   chlorides  free.sulfur.dioxide  total.sulfur.dioxide  density    pH  \\\n",
              "0      0.038                 40.0                 153.0  0.99110  3.34   \n",
              "1      0.077                  6.0                  33.0  0.99740  3.09   \n",
              "2      0.102                 13.0                  32.0  1.00000  3.28   \n",
              "3      0.102                  4.0                   7.0  0.99462  3.44   \n",
              "4      0.080                 24.0                 144.0  0.99655  3.30   \n",
              "\n",
              "   sulphates  alcohol  quality  \n",
              "0       0.55     11.3        6  \n",
              "1       0.57      9.4        5  \n",
              "2       0.56     10.0        6  \n",
              "3       0.58     11.4        4  \n",
              "4       0.60      9.5        5  "
            ]
          },
          "metadata": {
            "tags": []
          },
          "execution_count": 2
        }
      ]
    },
    {
      "cell_type": "code",
      "metadata": {
        "id": "GeLTKCYuXRCA"
      },
      "source": [
        "X_train = train_data.iloc[:,1:12].values\n",
        "y_train = train_data.iloc[:,12].values\n",
        "\n",
        "X_test = test_data.iloc[:, 1:12].values\n",
        "y_test = test_data.iloc[:,12].values"
      ],
      "execution_count": null,
      "outputs": []
    },
    {
      "cell_type": "markdown",
      "metadata": {
        "id": "mebPW0pUXRCA"
      },
      "source": [
        "### View Data"
      ]
    },
    {
      "cell_type": "code",
      "metadata": {
        "id": "2wJK6ZUYXRCB",
        "outputId": "0dda8c5b-7833-48cb-fca3-c856c928d996"
      },
      "source": [
        "X_train"
      ],
      "execution_count": null,
      "outputs": [
        {
          "output_type": "execute_result",
          "data": {
            "text/plain": [
              "array([[ 6.7 ,  0.17,  0.37, ...,  3.26,  0.6 , 10.8 ],\n",
              "       [10.4 ,  0.52,  0.45, ...,  3.22,  0.76, 11.4 ],\n",
              "       [ 8.  ,  0.34,  0.25, ...,  2.91,  0.23, 12.2 ],\n",
              "       ...,\n",
              "       [ 6.7 ,  0.76,  0.02, ...,  3.55,  0.63,  9.95],\n",
              "       [ 6.9 ,  0.26,  0.33, ...,  3.39,  0.38,  9.9 ],\n",
              "       [ 9.2 ,  0.18,  0.49, ...,  3.04,  0.49,  9.8 ]])"
            ]
          },
          "metadata": {
            "tags": []
          },
          "execution_count": 4
        }
      ]
    },
    {
      "cell_type": "code",
      "metadata": {
        "id": "EYqKkkqTXRCB",
        "outputId": "9e7a4416-4975-4922-b4d5-4ac868202e6a"
      },
      "source": [
        "X_train.shape"
      ],
      "execution_count": null,
      "outputs": [
        {
          "output_type": "execute_result",
          "data": {
            "text/plain": [
              "(4872, 11)"
            ]
          },
          "metadata": {
            "tags": []
          },
          "execution_count": 5
        }
      ]
    },
    {
      "cell_type": "code",
      "metadata": {
        "id": "CdBmeVFrXRCC",
        "outputId": "d215bfed-5b83-42a5-8120-f0e9e66735f2"
      },
      "source": [
        "y_train"
      ],
      "execution_count": null,
      "outputs": [
        {
          "output_type": "execute_result",
          "data": {
            "text/plain": [
              "array([7, 6, 6, ..., 3, 5, 7], dtype=int64)"
            ]
          },
          "metadata": {
            "tags": []
          },
          "execution_count": 6
        }
      ]
    },
    {
      "cell_type": "code",
      "metadata": {
        "id": "wALwgaw3XRCC",
        "outputId": "e336213f-27e8-4e72-a80b-6dab246b13f1"
      },
      "source": [
        "y_train.shape"
      ],
      "execution_count": null,
      "outputs": [
        {
          "output_type": "execute_result",
          "data": {
            "text/plain": [
              "(4872,)"
            ]
          },
          "metadata": {
            "tags": []
          },
          "execution_count": 7
        }
      ]
    },
    {
      "cell_type": "code",
      "metadata": {
        "id": "edodINgeXRCD",
        "outputId": "a4446c46-c061-477c-de68-53995cfd3b11"
      },
      "source": [
        "X_test"
      ],
      "execution_count": null,
      "outputs": [
        {
          "output_type": "execute_result",
          "data": {
            "text/plain": [
              "array([[ 5.8 ,  0.36,  0.26, ...,  3.34,  0.55, 11.3 ],\n",
              "       [ 9.9 ,  0.63,  0.24, ...,  3.09,  0.57,  9.4 ],\n",
              "       [10.  ,  0.48,  0.24, ...,  3.28,  0.56, 10.  ],\n",
              "       ...,\n",
              "       [ 6.4 ,  0.12,  0.3 , ...,  3.01,  0.56, 11.7 ],\n",
              "       [ 7.1 ,  0.31,  0.25, ...,  3.14,  0.4 ,  9.5 ],\n",
              "       [ 9.9 ,  0.35,  0.41, ...,  3.21,  0.5 ,  9.5 ]])"
            ]
          },
          "metadata": {
            "tags": []
          },
          "execution_count": 8
        }
      ]
    },
    {
      "cell_type": "code",
      "metadata": {
        "id": "O25Th7QyXRCD",
        "outputId": "2aedbfe5-655f-43e5-9bf7-1098d81476db"
      },
      "source": [
        "X_test.shape"
      ],
      "execution_count": null,
      "outputs": [
        {
          "output_type": "execute_result",
          "data": {
            "text/plain": [
              "(1625, 11)"
            ]
          },
          "metadata": {
            "tags": []
          },
          "execution_count": 9
        }
      ]
    },
    {
      "cell_type": "code",
      "metadata": {
        "id": "hSXf6vdrXRCD",
        "outputId": "30fa71e2-9e8c-4bbe-bb63-e27167241cfc"
      },
      "source": [
        "y_test"
      ],
      "execution_count": null,
      "outputs": [
        {
          "output_type": "execute_result",
          "data": {
            "text/plain": [
              "array([6, 5, 6, ..., 6, 5, 5], dtype=int64)"
            ]
          },
          "metadata": {
            "tags": []
          },
          "execution_count": 10
        }
      ]
    },
    {
      "cell_type": "code",
      "metadata": {
        "id": "slVRrj7KXRCE",
        "outputId": "774ee6e8-9a48-453d-fe81-3a6a1420cd8c"
      },
      "source": [
        "y_test.shape"
      ],
      "execution_count": null,
      "outputs": [
        {
          "output_type": "execute_result",
          "data": {
            "text/plain": [
              "(1625,)"
            ]
          },
          "metadata": {
            "tags": []
          },
          "execution_count": 11
        }
      ]
    },
    {
      "cell_type": "markdown",
      "metadata": {
        "id": "FcjG5qejXRCE"
      },
      "source": [
        "### KNN Regression Model"
      ]
    },
    {
      "cell_type": "code",
      "metadata": {
        "id": "iDbVWphgXRCE",
        "outputId": "37a58867-f35a-4da4-d5c9-7ad33a668801"
      },
      "source": [
        "from sklearn.neighbors import KNeighborsRegressor\n",
        "reg = KNeighborsRegressor(n_neighbors=10)\n",
        "reg.fit(X_train,y_train)"
      ],
      "execution_count": null,
      "outputs": [
        {
          "output_type": "execute_result",
          "data": {
            "text/plain": [
              "KNeighborsRegressor(n_neighbors=10)"
            ]
          },
          "metadata": {
            "tags": []
          },
          "execution_count": 12
        }
      ]
    },
    {
      "cell_type": "code",
      "metadata": {
        "id": "GKqf1h6zXRCE"
      },
      "source": [
        "# result = reg.predict(X_train)\n",
        "# test1 = np.round(result,0)\n",
        "# test1"
      ],
      "execution_count": null,
      "outputs": []
    },
    {
      "cell_type": "code",
      "metadata": {
        "id": "diOxVcDPXRCF"
      },
      "source": [
        "# result = reg.predict(X_test)\n",
        "# test2 = np.round(result,0)\n",
        "# test2"
      ],
      "execution_count": null,
      "outputs": []
    },
    {
      "cell_type": "code",
      "metadata": {
        "id": "_PSestjpXRCG"
      },
      "source": [
        "# reg.score(X_train,test1)"
      ],
      "execution_count": null,
      "outputs": []
    },
    {
      "cell_type": "code",
      "metadata": {
        "scrolled": true,
        "id": "WPx4lFUfXRCH"
      },
      "source": [
        "# reg.score(X_test,test2)"
      ],
      "execution_count": null,
      "outputs": []
    },
    {
      "cell_type": "code",
      "metadata": {
        "id": "K-w5jUSpXRCH"
      },
      "source": [
        "# y_pred = reg.predict(X_train)\n",
        "# y_pred"
      ],
      "execution_count": null,
      "outputs": []
    },
    {
      "cell_type": "code",
      "metadata": {
        "id": "or8p0MShXRCI"
      },
      "source": [
        "# y_pred_rounded = np.round(y_pred,0)\n",
        "# y_pred_rounded"
      ],
      "execution_count": null,
      "outputs": []
    },
    {
      "cell_type": "code",
      "metadata": {
        "id": "4mpWDSpWXRCI"
      },
      "source": [
        "# from sklearn.metrics import r2_score\n",
        "# r2_score(y_train,y_pred_rounded)"
      ],
      "execution_count": null,
      "outputs": []
    },
    {
      "cell_type": "code",
      "metadata": {
        "id": "jQ6SGNg1XRCI",
        "outputId": "a005bec2-44f0-4781-846b-113dc132829a"
      },
      "source": [
        "reg.score(X_train,y_train)"
      ],
      "execution_count": null,
      "outputs": [
        {
          "output_type": "execute_result",
          "data": {
            "text/plain": [
              "0.30817215046149093"
            ]
          },
          "metadata": {
            "tags": []
          },
          "execution_count": 20
        }
      ]
    },
    {
      "cell_type": "code",
      "metadata": {
        "id": "tclm_i5qXRCJ",
        "outputId": "8f9a2a9a-e9e6-4716-a1ef-c37cf2735154"
      },
      "source": [
        "reg.score(X_test,y_test)"
      ],
      "execution_count": null,
      "outputs": [
        {
          "output_type": "execute_result",
          "data": {
            "text/plain": [
              "0.19952300264162315"
            ]
          },
          "metadata": {
            "tags": []
          },
          "execution_count": 21
        }
      ]
    },
    {
      "cell_type": "markdown",
      "metadata": {
        "id": "1Eg_vUH3XRCJ"
      },
      "source": [
        "### OLS Regression Model"
      ]
    },
    {
      "cell_type": "code",
      "metadata": {
        "id": "0RraPM13XRCJ",
        "outputId": "7c7f4de4-b4cb-4801-c960-18d7f48d6237"
      },
      "source": [
        "from sklearn.linear_model import LinearRegression\n",
        "lr = LinearRegression()\n",
        "lr.fit(X_train,y_train)"
      ],
      "execution_count": null,
      "outputs": [
        {
          "output_type": "execute_result",
          "data": {
            "text/plain": [
              "LinearRegression()"
            ]
          },
          "metadata": {
            "tags": []
          },
          "execution_count": 22
        }
      ]
    },
    {
      "cell_type": "code",
      "metadata": {
        "id": "-xDHlM1oXRCK"
      },
      "source": [
        "# result = lr.predict(X_train)\n",
        "# test1 = np.round(result, 0)\n",
        "# test1"
      ],
      "execution_count": null,
      "outputs": []
    },
    {
      "cell_type": "code",
      "metadata": {
        "id": "x_qddvjdXRCK"
      },
      "source": [
        "# result = lr.predict(X_test)\n",
        "# test2 = np.round(result, 0)\n",
        "# test2"
      ],
      "execution_count": null,
      "outputs": []
    },
    {
      "cell_type": "code",
      "metadata": {
        "id": "oiEAT3hNXRCL"
      },
      "source": [
        "#lr.score(X_train,test1)"
      ],
      "execution_count": null,
      "outputs": []
    },
    {
      "cell_type": "code",
      "metadata": {
        "id": "pupV-xdOXRCL"
      },
      "source": [
        "#lr.score(X_test,test2)"
      ],
      "execution_count": null,
      "outputs": []
    },
    {
      "cell_type": "code",
      "metadata": {
        "id": "4pq1lkdIXRCM",
        "outputId": "0045c1f8-fe3e-469a-e37f-fa1aee875602"
      },
      "source": [
        "lr.coef_"
      ],
      "execution_count": null,
      "outputs": [
        {
          "output_type": "execute_result",
          "data": {
            "text/plain": [
              "array([ 6.56051841e-02, -1.31845988e+00, -1.27628521e-01,  4.13145088e-02,\n",
              "       -1.62638469e-01,  5.86443061e-03, -2.48848975e-03, -4.85670283e+01,\n",
              "        4.00902913e-01,  6.76769740e-01,  2.72929267e-01])"
            ]
          },
          "metadata": {
            "tags": []
          },
          "execution_count": 27
        }
      ]
    },
    {
      "cell_type": "code",
      "metadata": {
        "id": "l7TubWe_XRCM",
        "outputId": "41a23f61-a10a-4baa-f5e6-3a3ac7adbab8"
      },
      "source": [
        "lr.intercept_"
      ],
      "execution_count": null,
      "outputs": [
        {
          "output_type": "execute_result",
          "data": {
            "text/plain": [
              "49.523099947287776"
            ]
          },
          "metadata": {
            "tags": []
          },
          "execution_count": 28
        }
      ]
    },
    {
      "cell_type": "code",
      "metadata": {
        "id": "XJQ0KsNGXRCM",
        "outputId": "a222e348-94a6-48e4-b98c-af8377c94ff9"
      },
      "source": [
        "lr.score(X_train,y_train)"
      ],
      "execution_count": null,
      "outputs": [
        {
          "output_type": "execute_result",
          "data": {
            "text/plain": [
              "0.2760977537347612"
            ]
          },
          "metadata": {
            "tags": []
          },
          "execution_count": 29
        }
      ]
    },
    {
      "cell_type": "code",
      "metadata": {
        "id": "99RPWmOXXRCN",
        "outputId": "6e640cd9-b798-404a-e318-173cd0f4b3c9"
      },
      "source": [
        "lr.score(X_test,y_test)"
      ],
      "execution_count": null,
      "outputs": [
        {
          "output_type": "execute_result",
          "data": {
            "text/plain": [
              "0.336735748793488"
            ]
          },
          "metadata": {
            "tags": []
          },
          "execution_count": 30
        }
      ]
    },
    {
      "cell_type": "markdown",
      "metadata": {
        "id": "hY2pnEdAXRCN"
      },
      "source": [
        "### Ridge Regression Model"
      ]
    },
    {
      "cell_type": "code",
      "metadata": {
        "id": "sTA4qMtHXRCN",
        "outputId": "6ec4f53a-a098-4d94-d88b-3ce21ecea551"
      },
      "source": [
        "from sklearn.linear_model import Ridge\n",
        "ridge = Ridge(alpha=1)\n",
        "ridge.fit(X_train,y_train)"
      ],
      "execution_count": null,
      "outputs": [
        {
          "output_type": "execute_result",
          "data": {
            "text/plain": [
              "Ridge(alpha=1)"
            ]
          },
          "metadata": {
            "tags": []
          },
          "execution_count": 31
        }
      ]
    },
    {
      "cell_type": "code",
      "metadata": {
        "id": "NypfTE3rXRCO"
      },
      "source": [
        "# result = ridge.predict(X_train)\n",
        "# test1 = np.round(result, 0)\n",
        "# test1"
      ],
      "execution_count": null,
      "outputs": []
    },
    {
      "cell_type": "code",
      "metadata": {
        "id": "365DoowxXRCO"
      },
      "source": [
        "# result = ridge.predict(X_test)\n",
        "# test2 = np.round(result, 0)\n",
        "# test2"
      ],
      "execution_count": null,
      "outputs": []
    },
    {
      "cell_type": "code",
      "metadata": {
        "id": "e0rOo9-vXRCO"
      },
      "source": [
        "#ridge.score(X_train,test1)"
      ],
      "execution_count": null,
      "outputs": []
    },
    {
      "cell_type": "code",
      "metadata": {
        "id": "w1BCGe9VXRCO"
      },
      "source": [
        "#ridge.score(X_test,test2)"
      ],
      "execution_count": null,
      "outputs": []
    },
    {
      "cell_type": "code",
      "metadata": {
        "id": "1ms8Gb0JXRCP",
        "outputId": "978e4f0d-ef7f-4767-adaa-0638291fd403"
      },
      "source": [
        "ridge.score(X_train,y_train)"
      ],
      "execution_count": null,
      "outputs": [
        {
          "output_type": "execute_result",
          "data": {
            "text/plain": [
              "0.2742472943511054"
            ]
          },
          "metadata": {
            "tags": []
          },
          "execution_count": 36
        }
      ]
    },
    {
      "cell_type": "code",
      "metadata": {
        "scrolled": true,
        "id": "IhaxproGXRCP",
        "outputId": "be5260b3-c85b-4134-dfb0-6940682ac5d7"
      },
      "source": [
        "ridge.score(X_test,y_test)"
      ],
      "execution_count": null,
      "outputs": [
        {
          "output_type": "execute_result",
          "data": {
            "text/plain": [
              "0.3329106234571949"
            ]
          },
          "metadata": {
            "tags": []
          },
          "execution_count": 37
        }
      ]
    },
    {
      "cell_type": "markdown",
      "metadata": {
        "id": "flyBi1_SXRCP"
      },
      "source": [
        "### Lasso Regression Model"
      ]
    },
    {
      "cell_type": "code",
      "metadata": {
        "id": "7ENe-IYdXRCP",
        "outputId": "fc154955-7614-4279-e9c3-882dc10686f4"
      },
      "source": [
        "from sklearn.linear_model import Lasso\n",
        "lasso = Lasso(alpha=0.0001, max_iter=100000)\n",
        "lasso.fit(X_train,y_train)"
      ],
      "execution_count": null,
      "outputs": [
        {
          "output_type": "execute_result",
          "data": {
            "text/plain": [
              "Lasso(alpha=0.0001, max_iter=100000)"
            ]
          },
          "metadata": {
            "tags": []
          },
          "execution_count": 38
        }
      ]
    },
    {
      "cell_type": "code",
      "metadata": {
        "id": "yNoVvbaEXRCQ"
      },
      "source": [
        "# result = lasso.predict(X_train)\n",
        "# test1 = np.round(result, 0)\n",
        "# test1"
      ],
      "execution_count": null,
      "outputs": []
    },
    {
      "cell_type": "code",
      "metadata": {
        "id": "jIbmzdWXXRCQ"
      },
      "source": [
        "# result = lasso.predict(X_test)\n",
        "# test2 = np.round(result, 0)\n",
        "# test2"
      ],
      "execution_count": null,
      "outputs": []
    },
    {
      "cell_type": "code",
      "metadata": {
        "id": "xI8EewMPXRCQ"
      },
      "source": [
        "#lasso.score(X_train,test1)"
      ],
      "execution_count": null,
      "outputs": []
    },
    {
      "cell_type": "code",
      "metadata": {
        "id": "o1dlc_0yXRCQ"
      },
      "source": [
        "#lasso.score(X_test,test2)"
      ],
      "execution_count": null,
      "outputs": []
    },
    {
      "cell_type": "code",
      "metadata": {
        "id": "UDDJcyPbXRCR",
        "outputId": "68b8fcf4-0249-47f4-a35f-3452ffe065d6"
      },
      "source": [
        "np.sum(lasso.coef_ != 0)"
      ],
      "execution_count": null,
      "outputs": [
        {
          "output_type": "execute_result",
          "data": {
            "text/plain": [
              "10"
            ]
          },
          "metadata": {
            "tags": []
          },
          "execution_count": 43
        }
      ]
    },
    {
      "cell_type": "code",
      "metadata": {
        "id": "LyRz1MICXRCR",
        "outputId": "2b9f6a2a-2793-4962-ca0b-fbca8639185a"
      },
      "source": [
        "lasso.score(X_train,y_train)"
      ],
      "execution_count": null,
      "outputs": [
        {
          "output_type": "execute_result",
          "data": {
            "text/plain": [
              "0.2742320549926104"
            ]
          },
          "metadata": {
            "tags": []
          },
          "execution_count": 44
        }
      ]
    },
    {
      "cell_type": "code",
      "metadata": {
        "id": "ehaFhxBMXRCR",
        "outputId": "9c805e47-678c-4049-a31d-28e37c4c696d"
      },
      "source": [
        "lasso.score(X_test,y_test)"
      ],
      "execution_count": null,
      "outputs": [
        {
          "output_type": "execute_result",
          "data": {
            "text/plain": [
              "0.33285559352541216"
            ]
          },
          "metadata": {
            "tags": []
          },
          "execution_count": 45
        }
      ]
    }
  ]
}